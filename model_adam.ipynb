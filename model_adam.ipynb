{
  "nbformat": 4,
  "nbformat_minor": 0,
  "metadata": {
    "colab": {
      "provenance": []
    },
    "kernelspec": {
      "name": "python3",
      "display_name": "Python 3"
    },
    "language_info": {
      "name": "python"
    },
    "accelerator": "GPU",
    "gpuClass": "standard",
    "widgets": {
      "application/vnd.jupyter.widget-state+json": {
        "4445e375f16f47ce8a2cd0eeeb8e2537": {
          "model_module": "@jupyter-widgets/controls",
          "model_name": "HBoxModel",
          "model_module_version": "1.5.0",
          "state": {
            "_dom_classes": [],
            "_model_module": "@jupyter-widgets/controls",
            "_model_module_version": "1.5.0",
            "_model_name": "HBoxModel",
            "_view_count": null,
            "_view_module": "@jupyter-widgets/controls",
            "_view_module_version": "1.5.0",
            "_view_name": "HBoxView",
            "box_style": "",
            "children": [
              "IPY_MODEL_8abe2b8499a24bacbf873ffc3fe47c6c",
              "IPY_MODEL_d22add07fd2e4969b952fed2ca92cabe",
              "IPY_MODEL_81ef86c4b4f94b99bc2d49c95a338837"
            ],
            "layout": "IPY_MODEL_c2a4ed4593b94955bbfbdb7c3ff3f7e9"
          }
        },
        "8abe2b8499a24bacbf873ffc3fe47c6c": {
          "model_module": "@jupyter-widgets/controls",
          "model_name": "HTMLModel",
          "model_module_version": "1.5.0",
          "state": {
            "_dom_classes": [],
            "_model_module": "@jupyter-widgets/controls",
            "_model_module_version": "1.5.0",
            "_model_name": "HTMLModel",
            "_view_count": null,
            "_view_module": "@jupyter-widgets/controls",
            "_view_module_version": "1.5.0",
            "_view_name": "HTMLView",
            "description": "",
            "description_tooltip": null,
            "layout": "IPY_MODEL_fe4ff3f8e0bf459b8dda3b74f213bc6e",
            "placeholder": "​",
            "style": "IPY_MODEL_f833f10481214a5fbd7dfb89eb711e90",
            "value": "100%"
          }
        },
        "d22add07fd2e4969b952fed2ca92cabe": {
          "model_module": "@jupyter-widgets/controls",
          "model_name": "FloatProgressModel",
          "model_module_version": "1.5.0",
          "state": {
            "_dom_classes": [],
            "_model_module": "@jupyter-widgets/controls",
            "_model_module_version": "1.5.0",
            "_model_name": "FloatProgressModel",
            "_view_count": null,
            "_view_module": "@jupyter-widgets/controls",
            "_view_module_version": "1.5.0",
            "_view_name": "ProgressView",
            "bar_style": "success",
            "description": "",
            "description_tooltip": null,
            "layout": "IPY_MODEL_535740a198bb4db4bc5870f01e8686ed",
            "max": 170498071,
            "min": 0,
            "orientation": "horizontal",
            "style": "IPY_MODEL_12fb057317de4ebf8b794fe307a88904",
            "value": 170498071
          }
        },
        "81ef86c4b4f94b99bc2d49c95a338837": {
          "model_module": "@jupyter-widgets/controls",
          "model_name": "HTMLModel",
          "model_module_version": "1.5.0",
          "state": {
            "_dom_classes": [],
            "_model_module": "@jupyter-widgets/controls",
            "_model_module_version": "1.5.0",
            "_model_name": "HTMLModel",
            "_view_count": null,
            "_view_module": "@jupyter-widgets/controls",
            "_view_module_version": "1.5.0",
            "_view_name": "HTMLView",
            "description": "",
            "description_tooltip": null,
            "layout": "IPY_MODEL_350e76bb828c4f01b6e4726edd47453e",
            "placeholder": "​",
            "style": "IPY_MODEL_f2ad8fd1890d41deb7cd6aadc0cf4749",
            "value": " 170498071/170498071 [00:14&lt;00:00, 13745838.90it/s]"
          }
        },
        "c2a4ed4593b94955bbfbdb7c3ff3f7e9": {
          "model_module": "@jupyter-widgets/base",
          "model_name": "LayoutModel",
          "model_module_version": "1.2.0",
          "state": {
            "_model_module": "@jupyter-widgets/base",
            "_model_module_version": "1.2.0",
            "_model_name": "LayoutModel",
            "_view_count": null,
            "_view_module": "@jupyter-widgets/base",
            "_view_module_version": "1.2.0",
            "_view_name": "LayoutView",
            "align_content": null,
            "align_items": null,
            "align_self": null,
            "border": null,
            "bottom": null,
            "display": null,
            "flex": null,
            "flex_flow": null,
            "grid_area": null,
            "grid_auto_columns": null,
            "grid_auto_flow": null,
            "grid_auto_rows": null,
            "grid_column": null,
            "grid_gap": null,
            "grid_row": null,
            "grid_template_areas": null,
            "grid_template_columns": null,
            "grid_template_rows": null,
            "height": null,
            "justify_content": null,
            "justify_items": null,
            "left": null,
            "margin": null,
            "max_height": null,
            "max_width": null,
            "min_height": null,
            "min_width": null,
            "object_fit": null,
            "object_position": null,
            "order": null,
            "overflow": null,
            "overflow_x": null,
            "overflow_y": null,
            "padding": null,
            "right": null,
            "top": null,
            "visibility": null,
            "width": null
          }
        },
        "fe4ff3f8e0bf459b8dda3b74f213bc6e": {
          "model_module": "@jupyter-widgets/base",
          "model_name": "LayoutModel",
          "model_module_version": "1.2.0",
          "state": {
            "_model_module": "@jupyter-widgets/base",
            "_model_module_version": "1.2.0",
            "_model_name": "LayoutModel",
            "_view_count": null,
            "_view_module": "@jupyter-widgets/base",
            "_view_module_version": "1.2.0",
            "_view_name": "LayoutView",
            "align_content": null,
            "align_items": null,
            "align_self": null,
            "border": null,
            "bottom": null,
            "display": null,
            "flex": null,
            "flex_flow": null,
            "grid_area": null,
            "grid_auto_columns": null,
            "grid_auto_flow": null,
            "grid_auto_rows": null,
            "grid_column": null,
            "grid_gap": null,
            "grid_row": null,
            "grid_template_areas": null,
            "grid_template_columns": null,
            "grid_template_rows": null,
            "height": null,
            "justify_content": null,
            "justify_items": null,
            "left": null,
            "margin": null,
            "max_height": null,
            "max_width": null,
            "min_height": null,
            "min_width": null,
            "object_fit": null,
            "object_position": null,
            "order": null,
            "overflow": null,
            "overflow_x": null,
            "overflow_y": null,
            "padding": null,
            "right": null,
            "top": null,
            "visibility": null,
            "width": null
          }
        },
        "f833f10481214a5fbd7dfb89eb711e90": {
          "model_module": "@jupyter-widgets/controls",
          "model_name": "DescriptionStyleModel",
          "model_module_version": "1.5.0",
          "state": {
            "_model_module": "@jupyter-widgets/controls",
            "_model_module_version": "1.5.0",
            "_model_name": "DescriptionStyleModel",
            "_view_count": null,
            "_view_module": "@jupyter-widgets/base",
            "_view_module_version": "1.2.0",
            "_view_name": "StyleView",
            "description_width": ""
          }
        },
        "535740a198bb4db4bc5870f01e8686ed": {
          "model_module": "@jupyter-widgets/base",
          "model_name": "LayoutModel",
          "model_module_version": "1.2.0",
          "state": {
            "_model_module": "@jupyter-widgets/base",
            "_model_module_version": "1.2.0",
            "_model_name": "LayoutModel",
            "_view_count": null,
            "_view_module": "@jupyter-widgets/base",
            "_view_module_version": "1.2.0",
            "_view_name": "LayoutView",
            "align_content": null,
            "align_items": null,
            "align_self": null,
            "border": null,
            "bottom": null,
            "display": null,
            "flex": null,
            "flex_flow": null,
            "grid_area": null,
            "grid_auto_columns": null,
            "grid_auto_flow": null,
            "grid_auto_rows": null,
            "grid_column": null,
            "grid_gap": null,
            "grid_row": null,
            "grid_template_areas": null,
            "grid_template_columns": null,
            "grid_template_rows": null,
            "height": null,
            "justify_content": null,
            "justify_items": null,
            "left": null,
            "margin": null,
            "max_height": null,
            "max_width": null,
            "min_height": null,
            "min_width": null,
            "object_fit": null,
            "object_position": null,
            "order": null,
            "overflow": null,
            "overflow_x": null,
            "overflow_y": null,
            "padding": null,
            "right": null,
            "top": null,
            "visibility": null,
            "width": null
          }
        },
        "12fb057317de4ebf8b794fe307a88904": {
          "model_module": "@jupyter-widgets/controls",
          "model_name": "ProgressStyleModel",
          "model_module_version": "1.5.0",
          "state": {
            "_model_module": "@jupyter-widgets/controls",
            "_model_module_version": "1.5.0",
            "_model_name": "ProgressStyleModel",
            "_view_count": null,
            "_view_module": "@jupyter-widgets/base",
            "_view_module_version": "1.2.0",
            "_view_name": "StyleView",
            "bar_color": null,
            "description_width": ""
          }
        },
        "350e76bb828c4f01b6e4726edd47453e": {
          "model_module": "@jupyter-widgets/base",
          "model_name": "LayoutModel",
          "model_module_version": "1.2.0",
          "state": {
            "_model_module": "@jupyter-widgets/base",
            "_model_module_version": "1.2.0",
            "_model_name": "LayoutModel",
            "_view_count": null,
            "_view_module": "@jupyter-widgets/base",
            "_view_module_version": "1.2.0",
            "_view_name": "LayoutView",
            "align_content": null,
            "align_items": null,
            "align_self": null,
            "border": null,
            "bottom": null,
            "display": null,
            "flex": null,
            "flex_flow": null,
            "grid_area": null,
            "grid_auto_columns": null,
            "grid_auto_flow": null,
            "grid_auto_rows": null,
            "grid_column": null,
            "grid_gap": null,
            "grid_row": null,
            "grid_template_areas": null,
            "grid_template_columns": null,
            "grid_template_rows": null,
            "height": null,
            "justify_content": null,
            "justify_items": null,
            "left": null,
            "margin": null,
            "max_height": null,
            "max_width": null,
            "min_height": null,
            "min_width": null,
            "object_fit": null,
            "object_position": null,
            "order": null,
            "overflow": null,
            "overflow_x": null,
            "overflow_y": null,
            "padding": null,
            "right": null,
            "top": null,
            "visibility": null,
            "width": null
          }
        },
        "f2ad8fd1890d41deb7cd6aadc0cf4749": {
          "model_module": "@jupyter-widgets/controls",
          "model_name": "DescriptionStyleModel",
          "model_module_version": "1.5.0",
          "state": {
            "_model_module": "@jupyter-widgets/controls",
            "_model_module_version": "1.5.0",
            "_model_name": "DescriptionStyleModel",
            "_view_count": null,
            "_view_module": "@jupyter-widgets/base",
            "_view_module_version": "1.2.0",
            "_view_name": "StyleView",
            "description_width": ""
          }
        }
      }
    }
  },
  "cells": [
    {
      "cell_type": "code",
      "execution_count": 1,
      "metadata": {
        "colab": {
          "base_uri": "https://localhost:8080/",
          "height": 138,
          "referenced_widgets": [
            "4445e375f16f47ce8a2cd0eeeb8e2537",
            "8abe2b8499a24bacbf873ffc3fe47c6c",
            "d22add07fd2e4969b952fed2ca92cabe",
            "81ef86c4b4f94b99bc2d49c95a338837",
            "c2a4ed4593b94955bbfbdb7c3ff3f7e9",
            "fe4ff3f8e0bf459b8dda3b74f213bc6e",
            "f833f10481214a5fbd7dfb89eb711e90",
            "535740a198bb4db4bc5870f01e8686ed",
            "12fb057317de4ebf8b794fe307a88904",
            "350e76bb828c4f01b6e4726edd47453e",
            "f2ad8fd1890d41deb7cd6aadc0cf4749"
          ]
        },
        "id": "z13JhFe5Uv7U",
        "outputId": "c794e090-9818-4bd6-efab-21dcd3911e58"
      },
      "outputs": [
        {
          "output_type": "stream",
          "name": "stdout",
          "text": [
            "Initializing fetching CIFAR10 dataset using torchvision\n",
            "Downloading https://www.cs.toronto.edu/~kriz/cifar-10-python.tar.gz to ./data/cifar-10-python.tar.gz\n"
          ]
        },
        {
          "output_type": "display_data",
          "data": {
            "text/plain": [
              "  0%|          | 0/170498071 [00:00<?, ?it/s]"
            ],
            "application/vnd.jupyter.widget-view+json": {
              "version_major": 2,
              "version_minor": 0,
              "model_id": "4445e375f16f47ce8a2cd0eeeb8e2537"
            }
          },
          "metadata": {}
        },
        {
          "output_type": "stream",
          "name": "stdout",
          "text": [
            "Extracting ./data/cifar-10-python.tar.gz to ./data\n",
            "Files already downloaded and verified\n",
            "Files already downloaded and verified\n"
          ]
        }
      ],
      "source": [
        "import multiprocessing\n",
        "import torchvision\n",
        "import torchvision.transforms as transforms\n",
        "import numpy as np\n",
        "from torch.utils.data import DataLoader\n",
        "import torch\n",
        "torch.manual_seed(17)\n",
        "\n",
        "from torchsummary import summary\n",
        "from tqdm import tqdm\n",
        "import matplotlib.pyplot as plt\n",
        "\n",
        "class FetchDataset:\n",
        "\n",
        "    def __init__(self, dataset=\"CIFAR10\", batch_size=64):\n",
        "        print(\"Initializing fetching %s dataset using torchvision\"%(dataset))\n",
        "        self.datasetObject = torchvision.datasets.__dict__.get(dataset, None)\n",
        "        if self.datasetObject == None:\n",
        "            raise Exception(\"Dataset %s not available in torchvision.\"%(dataset))\n",
        "        self.batch_size = batch_size\n",
        "        self.transformers_training = []\n",
        "        self.transformers_testing = []\n",
        "        self.workersAvailable = min(multiprocessing.cpu_count(), 14)\n",
        "      \n",
        "    def dataAugmentation(self, size=32, padding=3):\n",
        "        self.transformers_training.append(transforms.RandomHorizontalFlip())\n",
        "        self.transformers_training.append(transforms.RandomCrop(size=size, padding=padding))\n",
        "        self.transformers_training.append(transforms.functional.equalize)\n",
        "        self.transformers_testing.append(transforms.functional.equalize)\n",
        "\n",
        "    def __addToTensor(self):\n",
        "        self.transformers_training.append(transforms.ToTensor())\n",
        "        self.transformers_testing.append(transforms.ToTensor())\n",
        "\n",
        "    def addNormalizer(self):\n",
        "        self.__addToTensor()\n",
        "        dataset_training = self.datasetObject(root=\"./data\", train=True, download=True)\n",
        "        data_train = dataset_training.data/255.0\n",
        "        mean = data_train.mean(axis=(0, 1, 2))\n",
        "        std = data_train.std(axis=(0, 1, 2))\n",
        "        self.transformers_training.append(transforms.Normalize(mean=mean, std=std))\n",
        "        self.transformers_testing.append(transforms.Normalize(mean=mean, std=std))\n",
        "        \n",
        "\n",
        "    def getLoaders(self):\n",
        "        if len(self.transformers_training) == 0:\n",
        "            self.__addToTensor()\n",
        "        dataset_training = self.datasetObject(root=\"./data\", train=True, download=True, transform=transforms.Compose(self.transformers_training))\n",
        "        dataset_testing = self.datasetObject(root=\"./data\", train=False, download=True, transform=transforms.Compose(self.transformers_testing))\n",
        "        load_train = DataLoader(dataset_training, batch_size=self.batch_size, shuffle=True, num_workers=self.workersAvailable)\n",
        "        load_test = DataLoader(dataset_testing, batch_size=self.batch_size, shuffle=False, num_workers=self.workersAvailable)\n",
        "        return load_train, load_test\n",
        "    \n",
        "\n",
        "df = FetchDataset(dataset=\"CIFAR10\", batch_size=128)\n",
        "df.dataAugmentation(size=32, padding=4)\n",
        "df.addNormalizer()\n",
        "trainLoader, testLoader = df.getLoaders()"
      ]
    },
    {
      "cell_type": "code",
      "source": [
        "\n",
        "import torch.nn as nn\n",
        "import torch.nn.functional as F\n",
        "\n",
        "class BasicBlock(nn.Module):\n",
        "\n",
        "    def __init__(self, in_planes, planes, kernel_size, skip_kernel, stride=1):\n",
        "        super(BasicBlock, self).__init__()\n",
        "        self.conv1 = nn.Conv2d(in_planes, planes, kernel_size=kernel_size, stride=stride, padding=1, bias=False)\n",
        "        self.bn1 = nn.BatchNorm2d(planes)\n",
        "        self.conv2 = nn.Conv2d(planes, planes, kernel_size=kernel_size, stride=1, padding=1, bias=False)\n",
        "        self.bn2 = nn.BatchNorm2d(planes)\n",
        "\n",
        "        self.shortcut = nn.Sequential()\n",
        "        if stride != 1 or in_planes != planes:\n",
        "            self.shortcut = nn.Sequential(\n",
        "                nn.Conv2d(in_planes, planes, kernel_size=skip_kernel, stride=stride, bias=False),\n",
        "                nn.BatchNorm2d(planes)\n",
        "            )\n",
        "\n",
        "    def forward(self, x):\n",
        "        out = F.relu(self.bn1(self.conv1(x)))\n",
        "        out = self.bn2(self.conv2(out))\n",
        "        out += self.shortcut(x)\n",
        "        out = F.relu(out)\n",
        "        return out\n",
        "\n",
        "\n",
        "class ResNet(nn.Module):\n",
        "\n",
        "    def __init__(self,N:int, B:list, C:list, F:list, K:list, P:int, num_classes=10):\n",
        "        super(ResNet, self).__init__()\n",
        "        self.in_planes = C[0]\n",
        "        self.block = BasicBlock\n",
        "        self.N, self.B, self.C, self.F, self.K, self.P= N, B, C, F, K, P\n",
        "        self.layers = []          # layers container\n",
        "        self.S = [2] * N          # strides for layers\n",
        "        self.S[0] = 1\n",
        "\n",
        "        # Output Liner layer input dimension\n",
        "        self.outLayerInSize = C[N-1]*(32//(P*2**(N-1)))*(32//(P*2**(N-1)))\n",
        "\n",
        "        # Print Model Config\n",
        "        print(\"\\n\\nModel Config: \"\n",
        "            \"\\n-------------------------------------\"\n",
        "            \"\\nN (# Layers)\\t:\",self.N,\n",
        "            \"\\nB (# Blocks)\\t:\",self.B,\n",
        "            \"\\nC (# Channels)\\t:\",C,\n",
        "            \"\\nF (Conv Kernel)\\t:\",F,\n",
        "            \"\\nK (Skip Kernel)\\t:\",K,\n",
        "            \"\\nP (Pool Kernel)\\t:\",P,)\n",
        "\n",
        "        self.conv1 = nn.Conv2d(3, C[0], kernel_size=F[0], stride=1, padding=1, bias=False)\n",
        "        self.bn1 = nn.BatchNorm2d(C[0])\n",
        "        for i in range(N): \n",
        "            exec(\"self.layer{} = self._make_layer(self.block, self.C[{}], self.B[{}], self.F[{}], self.K[{}], self.S[{}])\"\\\n",
        "                .format(i+1,i,i,i,i,i))\n",
        "            exec(\"self.layers.append(self.layer{})\".format(i+1))\n",
        "        self.linear = nn.Linear(self.outLayerInSize, num_classes)\n",
        "        \n",
        "\n",
        "    def _make_layer(self, block, planes, num_blocks, kernel_size, skip_kernel, stride):\n",
        "        strides = [stride] + [1]*(num_blocks-1)\n",
        "        layers = []\n",
        "        for stride in strides:\n",
        "            layers.append(block(self.in_planes, planes, kernel_size, skip_kernel, stride))\n",
        "            self.in_planes = planes\n",
        "        return nn.Sequential(*layers)\n",
        "\n",
        "    def forward(self, x):\n",
        "        out = F.relu(self.bn1(self.conv1(x)))\n",
        "        for layer in self.layers:\n",
        "            out = layer(out)\n",
        "        out = F.avg_pool2d(out, self.P)\n",
        "        out = out.view(out.size(0), -1)\n",
        "        out = self.linear(out)\n",
        "        return out\n",
        "\n",
        "def project1_model():\n",
        "\n",
        "    B=[3,3,2,3]\n",
        "    C=[64,128,128,256]\n",
        "    F=[3,3,3,3]\n",
        "    K=[1,1,1,1]\n",
        "    P=4\n",
        "    N=len(B)\n",
        "\n",
        "    return ResNet(N, B, C, F, K, P)\n",
        "\n"
      ],
      "metadata": {
        "id": "gvavgWjOUwjk"
      },
      "execution_count": 2,
      "outputs": []
    },
    {
      "cell_type": "code",
      "source": [
        "device = torch.device(\"cuda\" if torch.cuda.is_available() else \"cpu\")\n",
        "print(device)"
      ],
      "metadata": {
        "colab": {
          "base_uri": "https://localhost:8080/"
        },
        "id": "R2V6SO6-VAw4",
        "outputId": "388f0b88-45c6-45b1-8bf2-06c17bab966a"
      },
      "execution_count": 3,
      "outputs": [
        {
          "output_type": "stream",
          "name": "stdout",
          "text": [
            "cuda\n"
          ]
        }
      ]
    },
    {
      "cell_type": "code",
      "source": [
        "model = project1_model()\n",
        "model = model.to(device)"
      ],
      "metadata": {
        "colab": {
          "base_uri": "https://localhost:8080/"
        },
        "id": "cwUOZ6TAVRcc",
        "outputId": "e6948b31-4b13-4b78-da3d-10c1050d8962"
      },
      "execution_count": 4,
      "outputs": [
        {
          "output_type": "stream",
          "name": "stdout",
          "text": [
            "\n",
            "\n",
            "Model Config: \n",
            "-------------------------------------\n",
            "N (# Layers)\t: 4 \n",
            "B (# Blocks)\t: [3, 3, 2, 3] \n",
            "C (# Channels)\t: [64, 128, 128, 256] \n",
            "F (Conv Kernel)\t: [3, 3, 3, 3] \n",
            "K (Skip Kernel)\t: [1, 1, 1, 1] \n",
            "P (Pool Kernel)\t: 4\n"
          ]
        }
      ]
    },
    {
      "cell_type": "code",
      "source": [
        "EPOCHS=300\n",
        "globalBestAccuracy = 0.0\n",
        "train_loss = []\n",
        "test_loss = []\n",
        "train_accuracy = []\n",
        "test_accuracy = []\n",
        "\n",
        "loss_function = torch.nn.CrossEntropyLoss(reduction='sum')\n",
        "learningRate = 0.01\n",
        "weightDecay = 0.0001\n",
        "optimizer = torch.optim.Adam(model.parameters(), lr=learningRate, weight_decay=weightDecay)\n",
        "scheduler = torch.optim.lr_scheduler.CosineAnnealingLR(optimizer, EPOCHS, eta_min=learningRate/10.0)\n",
        "print(model.eval())\n",
        "trainable_parameters = sum(p.numel() for p in model.parameters() if p.requires_grad)\n",
        "print(\"Total Trainable Parameters : %s\"%(trainable_parameters))\n",
        "if trainable_parameters > 5*(10**6):\n",
        "    raise Exception(\"Model not under budget!\")"
      ],
      "metadata": {
        "colab": {
          "base_uri": "https://localhost:8080/"
        },
        "id": "iDgGEj7_VaJg",
        "outputId": "45b42ae4-502d-492d-cf40-ccb45aee49d1"
      },
      "execution_count": 7,
      "outputs": [
        {
          "output_type": "stream",
          "name": "stdout",
          "text": [
            "ResNet(\n",
            "  (conv1): Conv2d(3, 64, kernel_size=(3, 3), stride=(1, 1), padding=(1, 1), bias=False)\n",
            "  (bn1): BatchNorm2d(64, eps=1e-05, momentum=0.1, affine=True, track_running_stats=True)\n",
            "  (layer1): Sequential(\n",
            "    (0): BasicBlock(\n",
            "      (conv1): Conv2d(64, 64, kernel_size=(3, 3), stride=(1, 1), padding=(1, 1), bias=False)\n",
            "      (bn1): BatchNorm2d(64, eps=1e-05, momentum=0.1, affine=True, track_running_stats=True)\n",
            "      (conv2): Conv2d(64, 64, kernel_size=(3, 3), stride=(1, 1), padding=(1, 1), bias=False)\n",
            "      (bn2): BatchNorm2d(64, eps=1e-05, momentum=0.1, affine=True, track_running_stats=True)\n",
            "      (shortcut): Sequential()\n",
            "    )\n",
            "    (1): BasicBlock(\n",
            "      (conv1): Conv2d(64, 64, kernel_size=(3, 3), stride=(1, 1), padding=(1, 1), bias=False)\n",
            "      (bn1): BatchNorm2d(64, eps=1e-05, momentum=0.1, affine=True, track_running_stats=True)\n",
            "      (conv2): Conv2d(64, 64, kernel_size=(3, 3), stride=(1, 1), padding=(1, 1), bias=False)\n",
            "      (bn2): BatchNorm2d(64, eps=1e-05, momentum=0.1, affine=True, track_running_stats=True)\n",
            "      (shortcut): Sequential()\n",
            "    )\n",
            "    (2): BasicBlock(\n",
            "      (conv1): Conv2d(64, 64, kernel_size=(3, 3), stride=(1, 1), padding=(1, 1), bias=False)\n",
            "      (bn1): BatchNorm2d(64, eps=1e-05, momentum=0.1, affine=True, track_running_stats=True)\n",
            "      (conv2): Conv2d(64, 64, kernel_size=(3, 3), stride=(1, 1), padding=(1, 1), bias=False)\n",
            "      (bn2): BatchNorm2d(64, eps=1e-05, momentum=0.1, affine=True, track_running_stats=True)\n",
            "      (shortcut): Sequential()\n",
            "    )\n",
            "  )\n",
            "  (layer2): Sequential(\n",
            "    (0): BasicBlock(\n",
            "      (conv1): Conv2d(64, 128, kernel_size=(3, 3), stride=(2, 2), padding=(1, 1), bias=False)\n",
            "      (bn1): BatchNorm2d(128, eps=1e-05, momentum=0.1, affine=True, track_running_stats=True)\n",
            "      (conv2): Conv2d(128, 128, kernel_size=(3, 3), stride=(1, 1), padding=(1, 1), bias=False)\n",
            "      (bn2): BatchNorm2d(128, eps=1e-05, momentum=0.1, affine=True, track_running_stats=True)\n",
            "      (shortcut): Sequential(\n",
            "        (0): Conv2d(64, 128, kernel_size=(1, 1), stride=(2, 2), bias=False)\n",
            "        (1): BatchNorm2d(128, eps=1e-05, momentum=0.1, affine=True, track_running_stats=True)\n",
            "      )\n",
            "    )\n",
            "    (1): BasicBlock(\n",
            "      (conv1): Conv2d(128, 128, kernel_size=(3, 3), stride=(1, 1), padding=(1, 1), bias=False)\n",
            "      (bn1): BatchNorm2d(128, eps=1e-05, momentum=0.1, affine=True, track_running_stats=True)\n",
            "      (conv2): Conv2d(128, 128, kernel_size=(3, 3), stride=(1, 1), padding=(1, 1), bias=False)\n",
            "      (bn2): BatchNorm2d(128, eps=1e-05, momentum=0.1, affine=True, track_running_stats=True)\n",
            "      (shortcut): Sequential()\n",
            "    )\n",
            "    (2): BasicBlock(\n",
            "      (conv1): Conv2d(128, 128, kernel_size=(3, 3), stride=(1, 1), padding=(1, 1), bias=False)\n",
            "      (bn1): BatchNorm2d(128, eps=1e-05, momentum=0.1, affine=True, track_running_stats=True)\n",
            "      (conv2): Conv2d(128, 128, kernel_size=(3, 3), stride=(1, 1), padding=(1, 1), bias=False)\n",
            "      (bn2): BatchNorm2d(128, eps=1e-05, momentum=0.1, affine=True, track_running_stats=True)\n",
            "      (shortcut): Sequential()\n",
            "    )\n",
            "  )\n",
            "  (layer3): Sequential(\n",
            "    (0): BasicBlock(\n",
            "      (conv1): Conv2d(128, 128, kernel_size=(3, 3), stride=(2, 2), padding=(1, 1), bias=False)\n",
            "      (bn1): BatchNorm2d(128, eps=1e-05, momentum=0.1, affine=True, track_running_stats=True)\n",
            "      (conv2): Conv2d(128, 128, kernel_size=(3, 3), stride=(1, 1), padding=(1, 1), bias=False)\n",
            "      (bn2): BatchNorm2d(128, eps=1e-05, momentum=0.1, affine=True, track_running_stats=True)\n",
            "      (shortcut): Sequential(\n",
            "        (0): Conv2d(128, 128, kernel_size=(1, 1), stride=(2, 2), bias=False)\n",
            "        (1): BatchNorm2d(128, eps=1e-05, momentum=0.1, affine=True, track_running_stats=True)\n",
            "      )\n",
            "    )\n",
            "    (1): BasicBlock(\n",
            "      (conv1): Conv2d(128, 128, kernel_size=(3, 3), stride=(1, 1), padding=(1, 1), bias=False)\n",
            "      (bn1): BatchNorm2d(128, eps=1e-05, momentum=0.1, affine=True, track_running_stats=True)\n",
            "      (conv2): Conv2d(128, 128, kernel_size=(3, 3), stride=(1, 1), padding=(1, 1), bias=False)\n",
            "      (bn2): BatchNorm2d(128, eps=1e-05, momentum=0.1, affine=True, track_running_stats=True)\n",
            "      (shortcut): Sequential()\n",
            "    )\n",
            "  )\n",
            "  (layer4): Sequential(\n",
            "    (0): BasicBlock(\n",
            "      (conv1): Conv2d(128, 256, kernel_size=(3, 3), stride=(2, 2), padding=(1, 1), bias=False)\n",
            "      (bn1): BatchNorm2d(256, eps=1e-05, momentum=0.1, affine=True, track_running_stats=True)\n",
            "      (conv2): Conv2d(256, 256, kernel_size=(3, 3), stride=(1, 1), padding=(1, 1), bias=False)\n",
            "      (bn2): BatchNorm2d(256, eps=1e-05, momentum=0.1, affine=True, track_running_stats=True)\n",
            "      (shortcut): Sequential(\n",
            "        (0): Conv2d(128, 256, kernel_size=(1, 1), stride=(2, 2), bias=False)\n",
            "        (1): BatchNorm2d(256, eps=1e-05, momentum=0.1, affine=True, track_running_stats=True)\n",
            "      )\n",
            "    )\n",
            "    (1): BasicBlock(\n",
            "      (conv1): Conv2d(256, 256, kernel_size=(3, 3), stride=(1, 1), padding=(1, 1), bias=False)\n",
            "      (bn1): BatchNorm2d(256, eps=1e-05, momentum=0.1, affine=True, track_running_stats=True)\n",
            "      (conv2): Conv2d(256, 256, kernel_size=(3, 3), stride=(1, 1), padding=(1, 1), bias=False)\n",
            "      (bn2): BatchNorm2d(256, eps=1e-05, momentum=0.1, affine=True, track_running_stats=True)\n",
            "      (shortcut): Sequential()\n",
            "    )\n",
            "    (2): BasicBlock(\n",
            "      (conv1): Conv2d(256, 256, kernel_size=(3, 3), stride=(1, 1), padding=(1, 1), bias=False)\n",
            "      (bn1): BatchNorm2d(256, eps=1e-05, momentum=0.1, affine=True, track_running_stats=True)\n",
            "      (conv2): Conv2d(256, 256, kernel_size=(3, 3), stride=(1, 1), padding=(1, 1), bias=False)\n",
            "      (bn2): BatchNorm2d(256, eps=1e-05, momentum=0.1, affine=True, track_running_stats=True)\n",
            "      (shortcut): Sequential()\n",
            "    )\n",
            "  )\n",
            "  (linear): Linear(in_features=256, out_features=10, bias=True)\n",
            ")\n",
            "Total Trainable Parameters : 4935242\n"
          ]
        }
      ]
    },
    {
      "cell_type": "code",
      "source": [
        "def train(model,loader, optimizer):\n",
        "    model.train()\n",
        "    optimizer.zero_grad()\n",
        "    return model, optimizer\n",
        "\n",
        "def test(model,loader):\n",
        "    return model.eval() \n",
        "\n",
        "def getLoss(loader,model,optimizer):\n",
        "    running_loss = 0.0\n",
        "    running_correct = 0\n",
        "    for images, labels in loader:\n",
        "        images = images.to(device)\n",
        "        labels = labels.to(device)\n",
        "        output = model(images)\n",
        "        loss = loss_function(output, labels)\n",
        "        predicted_labels = torch.argmax(output, dim=1)\n",
        "        running_loss += loss.item()\n",
        "        running_correct += torch.sum(predicted_labels == labels).float().item()\n",
        "        if phase == \"train\":\n",
        "            loss.backward()\n",
        "            optimizer.step()\n",
        "    return running_loss,running_correct\n",
        "\n",
        "for i in tqdm(range(EPOCHS)):\n",
        "    for phase in ['train', 'test']:\n",
        "        if phase == \"train\":\n",
        "            loader = trainLoader\n",
        "            model,optimzier= train(model,loader,optimizer)\n",
        "        else:\n",
        "            loader = testLoader\n",
        "            model=test(model,loader)\n",
        "        running_loss,running_correct = getLoss(loader,model,optimizer)\n",
        "        epoch_loss = running_loss/len(loader.dataset)\n",
        "        epoch_acc = running_correct/len(loader.dataset)\n",
        "        if phase == \"train\":\n",
        "            scheduler.step()\n",
        "            train_loss.append(epoch_loss)\n",
        "            train_accuracy.append(epoch_acc)\n",
        "        else:\n",
        "            test_loss.append(epoch_loss)\n",
        "            test_accuracy.append(epoch_acc)\n",
        "            globalBestAccuracy = max(globalBestAccuracy, epoch_acc) \n",
        "    print(\"Training Loss : %s, Testing Loss : %s, Training Accuracy : %s, Testing Accuracy : %s\"\\\n",
        "          %(train_loss[-1], test_loss[-1], train_accuracy[-1], test_accuracy[-1]))"
      ],
      "metadata": {
        "colab": {
          "base_uri": "https://localhost:8080/"
        },
        "id": "2OVbcif7VmJQ",
        "outputId": "2d32d113-3839-4bac-f7b7-d499c57b3119"
      },
      "execution_count": 8,
      "outputs": [
        {
          "output_type": "stream",
          "name": "stderr",
          "text": [
            "  0%|          | 1/300 [00:47<3:57:23, 47.64s/it]"
          ]
        },
        {
          "output_type": "stream",
          "name": "stdout",
          "text": [
            "Training Loss : 2.549945370178223, Testing Loss : 3.644618391036987, Training Accuracy : 0.10204, Testing Accuracy : 0.1069\n"
          ]
        },
        {
          "output_type": "stream",
          "name": "stderr",
          "text": [
            "\r  1%|          | 2/300 [01:35<3:58:21, 47.99s/it]"
          ]
        },
        {
          "output_type": "stream",
          "name": "stdout",
          "text": [
            "Training Loss : 2.434282400817871, Testing Loss : 2.4985238174438478, Training Accuracy : 0.10324, Testing Accuracy : 0.099\n"
          ]
        },
        {
          "output_type": "stream",
          "name": "stderr",
          "text": [
            "\r  1%|          | 3/300 [02:23<3:56:20, 47.75s/it]"
          ]
        },
        {
          "output_type": "stream",
          "name": "stdout",
          "text": [
            "Training Loss : 2.466797227478027, Testing Loss : 2.693866638183594, Training Accuracy : 0.09912, Testing Accuracy : 0.0996\n"
          ]
        },
        {
          "output_type": "stream",
          "name": "stderr",
          "text": [
            "\r  1%|▏         | 4/300 [03:10<3:54:19, 47.50s/it]"
          ]
        },
        {
          "output_type": "stream",
          "name": "stdout",
          "text": [
            "Training Loss : 2.617577964172363, Testing Loss : 2.8212259735107423, Training Accuracy : 0.10062, Testing Accuracy : 0.0993\n"
          ]
        },
        {
          "output_type": "stream",
          "name": "stderr",
          "text": [
            "\r  2%|▏         | 5/300 [03:58<3:53:57, 47.58s/it]"
          ]
        },
        {
          "output_type": "stream",
          "name": "stdout",
          "text": [
            "Training Loss : 2.6595291625976563, Testing Loss : 2.8241547702789305, Training Accuracy : 0.1018, Testing Accuracy : 0.0983\n"
          ]
        },
        {
          "output_type": "stream",
          "name": "stderr",
          "text": [
            "\r  2%|▏         | 6/300 [04:46<3:55:07, 47.99s/it]"
          ]
        },
        {
          "output_type": "stream",
          "name": "stdout",
          "text": [
            "Training Loss : 2.6171552084350584, Testing Loss : 2.668267638015747, Training Accuracy : 0.09958, Testing Accuracy : 0.1026\n"
          ]
        },
        {
          "output_type": "stream",
          "name": "stderr",
          "text": [
            "\r  2%|▏         | 7/300 [05:34<3:53:15, 47.77s/it]"
          ]
        },
        {
          "output_type": "stream",
          "name": "stdout",
          "text": [
            "Training Loss : 2.521494263305664, Testing Loss : 2.390498806381226, Training Accuracy : 0.09782, Testing Accuracy : 0.1\n"
          ]
        },
        {
          "output_type": "stream",
          "name": "stderr",
          "text": [
            "\r  3%|▎         | 8/300 [06:21<3:51:18, 47.53s/it]"
          ]
        },
        {
          "output_type": "stream",
          "name": "stdout",
          "text": [
            "Training Loss : 2.37701975982666, Testing Loss : 2.378160963821411, Training Accuracy : 0.10184, Testing Accuracy : 0.1\n"
          ]
        },
        {
          "output_type": "stream",
          "name": "stderr",
          "text": [
            "\r  3%|▎         | 9/300 [07:08<3:50:40, 47.56s/it]"
          ]
        },
        {
          "output_type": "stream",
          "name": "stdout",
          "text": [
            "Training Loss : 2.3707294033813477, Testing Loss : 2.412444474029541, Training Accuracy : 0.09958, Testing Accuracy : 0.1\n"
          ]
        },
        {
          "output_type": "stream",
          "name": "stderr",
          "text": [
            "\r  3%|▎         | 10/300 [07:55<3:48:12, 47.22s/it]"
          ]
        },
        {
          "output_type": "stream",
          "name": "stdout",
          "text": [
            "Training Loss : 2.3881499209594725, Testing Loss : 2.493240910720825, Training Accuracy : 0.09986, Testing Accuracy : 0.1\n"
          ]
        },
        {
          "output_type": "stream",
          "name": "stderr",
          "text": [
            "\r  4%|▎         | 11/300 [08:41<3:45:38, 46.85s/it]"
          ]
        },
        {
          "output_type": "stream",
          "name": "stdout",
          "text": [
            "Training Loss : 2.4455036224365236, Testing Loss : 2.5918151168823242, Training Accuracy : 0.1021, Testing Accuracy : 0.1\n"
          ]
        },
        {
          "output_type": "stream",
          "name": "stderr",
          "text": [
            "\r  4%|▍         | 12/300 [09:27<3:43:39, 46.59s/it]"
          ]
        },
        {
          "output_type": "stream",
          "name": "stdout",
          "text": [
            "Training Loss : 2.5192060595703123, Testing Loss : 2.575039191818237, Training Accuracy : 0.10032, Testing Accuracy : 0.1\n"
          ]
        },
        {
          "output_type": "stream",
          "name": "stderr",
          "text": [
            "\r  4%|▍         | 13/300 [10:14<3:43:08, 46.65s/it]"
          ]
        },
        {
          "output_type": "stream",
          "name": "stdout",
          "text": [
            "Training Loss : 2.514071753540039, Testing Loss : 2.5378153701782225, Training Accuracy : 0.1019, Testing Accuracy : 0.1\n"
          ]
        },
        {
          "output_type": "stream",
          "name": "stderr",
          "text": [
            "\r  5%|▍         | 14/300 [10:59<3:40:49, 46.33s/it]"
          ]
        },
        {
          "output_type": "stream",
          "name": "stdout",
          "text": [
            "Training Loss : 2.523690563964844, Testing Loss : 2.5645556579589845, Training Accuracy : 0.09824, Testing Accuracy : 0.1\n"
          ]
        },
        {
          "output_type": "stream",
          "name": "stderr",
          "text": [
            "\r  5%|▌         | 15/300 [11:45<3:39:36, 46.23s/it]"
          ]
        },
        {
          "output_type": "stream",
          "name": "stdout",
          "text": [
            "Training Loss : 2.4838484313964844, Testing Loss : 2.477532748413086, Training Accuracy : 0.10072, Testing Accuracy : 0.1\n"
          ]
        },
        {
          "output_type": "stream",
          "name": "stderr",
          "text": [
            "\r  5%|▌         | 16/300 [12:31<3:38:44, 46.21s/it]"
          ]
        },
        {
          "output_type": "stream",
          "name": "stdout",
          "text": [
            "Training Loss : 2.4465858309936523, Testing Loss : 2.4884134296417235, Training Accuracy : 0.09912, Testing Accuracy : 0.1\n"
          ]
        },
        {
          "output_type": "stream",
          "name": "stderr",
          "text": [
            "\r  6%|▌         | 17/300 [13:19<3:39:19, 46.50s/it]"
          ]
        },
        {
          "output_type": "stream",
          "name": "stdout",
          "text": [
            "Training Loss : 2.4411612896728516, Testing Loss : 2.468543711090088, Training Accuracy : 0.10364, Testing Accuracy : 0.0929\n"
          ]
        },
        {
          "output_type": "stream",
          "name": "stderr",
          "text": [
            "\r  6%|▌         | 18/300 [14:05<3:37:47, 46.34s/it]"
          ]
        },
        {
          "output_type": "stream",
          "name": "stdout",
          "text": [
            "Training Loss : 2.4397794232177734, Testing Loss : 2.6090787033081053, Training Accuracy : 0.10054, Testing Accuracy : 0.1\n"
          ]
        },
        {
          "output_type": "stream",
          "name": "stderr",
          "text": [
            "\r  6%|▋         | 19/300 [14:50<3:36:13, 46.17s/it]"
          ]
        },
        {
          "output_type": "stream",
          "name": "stdout",
          "text": [
            "Training Loss : 2.5583942807006834, Testing Loss : 2.5824315422058106, Training Accuracy : 0.09778, Testing Accuracy : 0.1\n"
          ]
        },
        {
          "output_type": "stream",
          "name": "stderr",
          "text": [
            "\r  7%|▋         | 20/300 [15:36<3:34:52, 46.05s/it]"
          ]
        },
        {
          "output_type": "stream",
          "name": "stdout",
          "text": [
            "Training Loss : 2.5094418496704103, Testing Loss : 2.4873560764312743, Training Accuracy : 0.10012, Testing Accuracy : 0.1\n"
          ]
        },
        {
          "output_type": "stream",
          "name": "stderr",
          "text": [
            "\r  7%|▋         | 21/300 [16:22<3:33:49, 45.98s/it]"
          ]
        },
        {
          "output_type": "stream",
          "name": "stdout",
          "text": [
            "Training Loss : 2.454007857055664, Testing Loss : 2.458774631881714, Training Accuracy : 0.09926, Testing Accuracy : 0.1\n"
          ]
        },
        {
          "output_type": "stream",
          "name": "stderr",
          "text": [
            "\r  7%|▋         | 22/300 [17:08<3:33:49, 46.15s/it]"
          ]
        },
        {
          "output_type": "stream",
          "name": "stdout",
          "text": [
            "Training Loss : 2.426758476867676, Testing Loss : 2.511359925842285, Training Accuracy : 0.10242, Testing Accuracy : 0.1\n"
          ]
        },
        {
          "output_type": "stream",
          "name": "stderr",
          "text": [
            "\r  8%|▊         | 23/300 [17:53<3:31:25, 45.79s/it]"
          ]
        },
        {
          "output_type": "stream",
          "name": "stdout",
          "text": [
            "Training Loss : 2.45217388092041, Testing Loss : 2.5779558692932127, Training Accuracy : 0.10068, Testing Accuracy : 0.1\n"
          ]
        },
        {
          "output_type": "stream",
          "name": "stderr",
          "text": [
            "\r  8%|▊         | 24/300 [18:39<3:30:38, 45.79s/it]"
          ]
        },
        {
          "output_type": "stream",
          "name": "stdout",
          "text": [
            "Training Loss : 2.4988660067749024, Testing Loss : 2.5882738231658937, Training Accuracy : 0.10032, Testing Accuracy : 0.1\n"
          ]
        },
        {
          "output_type": "stream",
          "name": "stderr",
          "text": [
            "\r  8%|▊         | 25/300 [19:25<3:29:22, 45.68s/it]"
          ]
        },
        {
          "output_type": "stream",
          "name": "stdout",
          "text": [
            "Training Loss : 2.511026498413086, Testing Loss : 2.5095436958312987, Training Accuracy : 0.10046, Testing Accuracy : 0.1\n"
          ]
        },
        {
          "output_type": "stream",
          "name": "stderr",
          "text": [
            "\r  9%|▊         | 26/300 [20:11<3:29:25, 45.86s/it]"
          ]
        },
        {
          "output_type": "stream",
          "name": "stdout",
          "text": [
            "Training Loss : 2.463061820068359, Testing Loss : 4.678132318115234, Training Accuracy : 0.09994, Testing Accuracy : 0.1\n"
          ]
        },
        {
          "output_type": "stream",
          "name": "stderr",
          "text": [
            "\r  9%|▉         | 27/300 [20:57<3:29:10, 45.97s/it]"
          ]
        },
        {
          "output_type": "stream",
          "name": "stdout",
          "text": [
            "Training Loss : 2.4734552001953123, Testing Loss : 2.4822347469329835, Training Accuracy : 0.09996, Testing Accuracy : 0.0995\n"
          ]
        },
        {
          "output_type": "stream",
          "name": "stderr",
          "text": [
            "\r  9%|▉         | 28/300 [21:43<3:28:19, 45.95s/it]"
          ]
        },
        {
          "output_type": "stream",
          "name": "stdout",
          "text": [
            "Training Loss : 2.455190769958496, Testing Loss : 2.4487373550415037, Training Accuracy : 0.09944, Testing Accuracy : 0.1\n"
          ]
        },
        {
          "output_type": "stream",
          "name": "stderr",
          "text": [
            "\r 10%|▉         | 29/300 [22:29<3:26:52, 45.80s/it]"
          ]
        },
        {
          "output_type": "stream",
          "name": "stdout",
          "text": [
            "Training Loss : 2.4086369085693358, Testing Loss : 2.418450395202637, Training Accuracy : 0.09692, Testing Accuracy : 0.1\n"
          ]
        },
        {
          "output_type": "stream",
          "name": "stderr",
          "text": [
            "\r 10%|█         | 30/300 [23:15<3:26:46, 45.95s/it]"
          ]
        },
        {
          "output_type": "stream",
          "name": "stdout",
          "text": [
            "Training Loss : 2.4039419177246093, Testing Loss : 2.529851153945923, Training Accuracy : 0.09996, Testing Accuracy : 0.1\n"
          ]
        },
        {
          "output_type": "stream",
          "name": "stderr",
          "text": [
            "\r 10%|█         | 31/300 [24:00<3:25:06, 45.75s/it]"
          ]
        },
        {
          "output_type": "stream",
          "name": "stdout",
          "text": [
            "Training Loss : 2.473404695739746, Testing Loss : 2.599372394180298, Training Accuracy : 0.09868, Testing Accuracy : 0.1\n"
          ]
        },
        {
          "output_type": "stream",
          "name": "stderr",
          "text": [
            "\r 11%|█         | 32/300 [24:46<3:23:56, 45.66s/it]"
          ]
        },
        {
          "output_type": "stream",
          "name": "stdout",
          "text": [
            "Training Loss : 2.5256186892700194, Testing Loss : 2.5160163093566896, Training Accuracy : 0.10148, Testing Accuracy : 0.1\n"
          ]
        },
        {
          "output_type": "stream",
          "name": "stderr",
          "text": [
            "\r 11%|█         | 33/300 [25:31<3:23:13, 45.67s/it]"
          ]
        },
        {
          "output_type": "stream",
          "name": "stdout",
          "text": [
            "Training Loss : 2.4621847735595703, Testing Loss : 2.454847179412842, Training Accuracy : 0.0996, Testing Accuracy : 0.1\n"
          ]
        },
        {
          "output_type": "stream",
          "name": "stderr",
          "text": [
            "\r 11%|█▏        | 34/300 [26:17<3:23:10, 45.83s/it]"
          ]
        },
        {
          "output_type": "stream",
          "name": "stdout",
          "text": [
            "Training Loss : 2.426083914489746, Testing Loss : 2.437006637954712, Training Accuracy : 0.09918, Testing Accuracy : 0.1\n"
          ]
        },
        {
          "output_type": "stream",
          "name": "stderr",
          "text": [
            "\r 12%|█▏        | 35/300 [27:03<3:21:48, 45.69s/it]"
          ]
        },
        {
          "output_type": "stream",
          "name": "stdout",
          "text": [
            "Training Loss : 2.4121737585449217, Testing Loss : 2.3884469211578367, Training Accuracy : 0.09846, Testing Accuracy : 0.1\n"
          ]
        },
        {
          "output_type": "stream",
          "name": "stderr",
          "text": [
            "\r 12%|█▏        | 36/300 [27:48<3:20:56, 45.67s/it]"
          ]
        },
        {
          "output_type": "stream",
          "name": "stdout",
          "text": [
            "Training Loss : 2.382857012023926, Testing Loss : 2.3894552589416502, Training Accuracy : 0.10206, Testing Accuracy : 0.1\n"
          ]
        },
        {
          "output_type": "stream",
          "name": "stderr",
          "text": [
            "\r 12%|█▏        | 37/300 [28:34<3:20:01, 45.63s/it]"
          ]
        },
        {
          "output_type": "stream",
          "name": "stdout",
          "text": [
            "Training Loss : 2.3802798110961914, Testing Loss : 2.5049775665283205, Training Accuracy : 0.1014, Testing Accuracy : 0.1\n"
          ]
        },
        {
          "output_type": "stream",
          "name": "stderr",
          "text": [
            "\r 13%|█▎        | 38/300 [29:20<3:20:11, 45.84s/it]"
          ]
        },
        {
          "output_type": "stream",
          "name": "stdout",
          "text": [
            "Training Loss : 2.475596753540039, Testing Loss : 2.6461879104614257, Training Accuracy : 0.10062, Testing Accuracy : 0.1\n"
          ]
        },
        {
          "output_type": "stream",
          "name": "stderr",
          "text": [
            "\r 13%|█▎        | 39/300 [30:06<3:19:02, 45.76s/it]"
          ]
        },
        {
          "output_type": "stream",
          "name": "stdout",
          "text": [
            "Training Loss : 2.5511800469970702, Testing Loss : 2.5092661193847654, Training Accuracy : 0.09912, Testing Accuracy : 0.1\n"
          ]
        },
        {
          "output_type": "stream",
          "name": "stderr",
          "text": [
            "\r 13%|█▎        | 40/300 [30:51<3:17:43, 45.63s/it]"
          ]
        },
        {
          "output_type": "stream",
          "name": "stdout",
          "text": [
            "Training Loss : 2.4802383822631837, Testing Loss : 2.605914605331421, Training Accuracy : 0.10026, Testing Accuracy : 0.1\n"
          ]
        },
        {
          "output_type": "stream",
          "name": "stderr",
          "text": [
            "\r 14%|█▎        | 41/300 [31:37<3:16:53, 45.61s/it]"
          ]
        },
        {
          "output_type": "stream",
          "name": "stdout",
          "text": [
            "Training Loss : 2.517489298706055, Testing Loss : 2.53270260887146, Training Accuracy : 0.09848, Testing Accuracy : 0.1\n"
          ]
        },
        {
          "output_type": "stream",
          "name": "stderr",
          "text": [
            "\r 14%|█▍        | 42/300 [32:23<3:16:41, 45.74s/it]"
          ]
        },
        {
          "output_type": "stream",
          "name": "stdout",
          "text": [
            "Training Loss : 2.470174546813965, Testing Loss : 2.488176956176758, Training Accuracy : 0.09894, Testing Accuracy : 0.1\n"
          ]
        },
        {
          "output_type": "stream",
          "name": "stderr",
          "text": [
            "\r 14%|█▍        | 43/300 [33:08<3:15:31, 45.65s/it]"
          ]
        },
        {
          "output_type": "stream",
          "name": "stdout",
          "text": [
            "Training Loss : 2.4442062673950193, Testing Loss : 2.4640847606658935, Training Accuracy : 0.09922, Testing Accuracy : 0.1\n"
          ]
        },
        {
          "output_type": "stream",
          "name": "stderr",
          "text": [
            "\r 15%|█▍        | 44/300 [33:54<3:14:30, 45.59s/it]"
          ]
        },
        {
          "output_type": "stream",
          "name": "stdout",
          "text": [
            "Training Loss : 2.4254890505981446, Testing Loss : 2.473510014343262, Training Accuracy : 0.10066, Testing Accuracy : 0.1\n"
          ]
        },
        {
          "output_type": "stream",
          "name": "stderr",
          "text": [
            "\r 15%|█▌        | 45/300 [34:39<3:13:36, 45.55s/it]"
          ]
        },
        {
          "output_type": "stream",
          "name": "stdout",
          "text": [
            "Training Loss : 2.456382846984863, Testing Loss : 70.34085734863281, Training Accuracy : 0.10184, Testing Accuracy : 0.1021\n"
          ]
        },
        {
          "output_type": "stream",
          "name": "stderr",
          "text": [
            "\r 15%|█▌        | 46/300 [35:26<3:14:11, 45.87s/it]"
          ]
        },
        {
          "output_type": "stream",
          "name": "stdout",
          "text": [
            "Training Loss : 2.3861896154785156, Testing Loss : 4.717987945556641, Training Accuracy : 0.10212, Testing Accuracy : 0.1036\n"
          ]
        },
        {
          "output_type": "stream",
          "name": "stderr",
          "text": [
            "\r 16%|█▌        | 47/300 [36:12<3:13:27, 45.88s/it]"
          ]
        },
        {
          "output_type": "stream",
          "name": "stdout",
          "text": [
            "Training Loss : 2.3944267080688477, Testing Loss : 2.4354690673828125, Training Accuracy : 0.10196, Testing Accuracy : 0.1\n"
          ]
        },
        {
          "output_type": "stream",
          "name": "stderr",
          "text": [
            "\r 16%|█▌        | 48/300 [36:58<3:13:08, 45.99s/it]"
          ]
        },
        {
          "output_type": "stream",
          "name": "stdout",
          "text": [
            "Training Loss : 2.4131723828125, Testing Loss : 2.536914698791504, Training Accuracy : 0.1002, Testing Accuracy : 0.1\n"
          ]
        },
        {
          "output_type": "stream",
          "name": "stderr",
          "text": [
            "\r 16%|█▋        | 49/300 [37:44<3:12:27, 46.01s/it]"
          ]
        },
        {
          "output_type": "stream",
          "name": "stdout",
          "text": [
            "Training Loss : 2.4546720257568357, Testing Loss : 2.4379257545471194, Training Accuracy : 0.09974, Testing Accuracy : 0.1\n"
          ]
        },
        {
          "output_type": "stream",
          "name": "stderr",
          "text": [
            "\r 17%|█▋        | 50/300 [38:30<3:12:19, 46.16s/it]"
          ]
        },
        {
          "output_type": "stream",
          "name": "stdout",
          "text": [
            "Training Loss : 2.438370747375488, Testing Loss : 9510.812503125, Training Accuracy : 0.09878, Testing Accuracy : 0.1\n"
          ]
        },
        {
          "output_type": "stream",
          "name": "stderr",
          "text": [
            "\r 17%|█▋        | 51/300 [39:17<3:11:30, 46.15s/it]"
          ]
        },
        {
          "output_type": "stream",
          "name": "stdout",
          "text": [
            "Training Loss : 2.421547790527344, Testing Loss : 2.8718282012939453, Training Accuracy : 0.10262, Testing Accuracy : 0.1\n"
          ]
        },
        {
          "output_type": "stream",
          "name": "stderr",
          "text": [
            "\r 17%|█▋        | 52/300 [40:03<3:11:08, 46.24s/it]"
          ]
        },
        {
          "output_type": "stream",
          "name": "stdout",
          "text": [
            "Training Loss : 2.403057339782715, Testing Loss : 7.376084535217285, Training Accuracy : 0.1011, Testing Accuracy : 0.1\n"
          ]
        },
        {
          "output_type": "stream",
          "name": "stderr",
          "text": [
            "\r 18%|█▊        | 53/300 [40:49<3:10:19, 46.23s/it]"
          ]
        },
        {
          "output_type": "stream",
          "name": "stdout",
          "text": [
            "Training Loss : 2.5589681939697266, Testing Loss : 3.5787139019012453, Training Accuracy : 0.09822, Testing Accuracy : 0.1\n"
          ]
        },
        {
          "output_type": "stream",
          "name": "stderr",
          "text": [
            "\r 18%|█▊        | 54/300 [41:36<3:10:19, 46.42s/it]"
          ]
        },
        {
          "output_type": "stream",
          "name": "stdout",
          "text": [
            "Training Loss : 2.553671505126953, Testing Loss : 3.16970305557251, Training Accuracy : 0.1024, Testing Accuracy : 0.1\n"
          ]
        },
        {
          "output_type": "stream",
          "name": "stderr",
          "text": [
            "\r 18%|█▊        | 55/300 [42:22<3:09:26, 46.39s/it]"
          ]
        },
        {
          "output_type": "stream",
          "name": "stdout",
          "text": [
            "Training Loss : 3.847094697265625, Testing Loss : 4.283795302581787, Training Accuracy : 0.10014, Testing Accuracy : 0.1\n"
          ]
        },
        {
          "output_type": "stream",
          "name": "stderr",
          "text": [
            "\r 19%|█▊        | 56/300 [43:09<3:08:20, 46.31s/it]"
          ]
        },
        {
          "output_type": "stream",
          "name": "stdout",
          "text": [
            "Training Loss : 2.4106092352294923, Testing Loss : 2.324047327041626, Training Accuracy : 0.10306, Testing Accuracy : 0.1097\n"
          ]
        },
        {
          "output_type": "stream",
          "name": "stderr",
          "text": [
            "\r 19%|█▉        | 57/300 [43:56<3:08:42, 46.60s/it]"
          ]
        },
        {
          "output_type": "stream",
          "name": "stdout",
          "text": [
            "Training Loss : 2.3806480447387695, Testing Loss : 2.480349055099487, Training Accuracy : 0.12454, Testing Accuracy : 0.123\n"
          ]
        },
        {
          "output_type": "stream",
          "name": "stderr",
          "text": [
            "\r 19%|█▉        | 58/300 [44:42<3:07:35, 46.51s/it]"
          ]
        },
        {
          "output_type": "stream",
          "name": "stdout",
          "text": [
            "Training Loss : 2.22516224609375, Testing Loss : 3.04409797744751, Training Accuracy : 0.16054, Testing Accuracy : 0.1922\n"
          ]
        },
        {
          "output_type": "stream",
          "name": "stderr",
          "text": [
            "\r 20%|█▉        | 59/300 [45:29<3:07:00, 46.56s/it]"
          ]
        },
        {
          "output_type": "stream",
          "name": "stdout",
          "text": [
            "Training Loss : 2.3684364044189454, Testing Loss : 2.5243800785064696, Training Accuracy : 0.15702, Testing Accuracy : 0.1283\n"
          ]
        },
        {
          "output_type": "stream",
          "name": "stderr",
          "text": [
            "\r 20%|██        | 60/300 [46:15<3:06:09, 46.54s/it]"
          ]
        },
        {
          "output_type": "stream",
          "name": "stdout",
          "text": [
            "Training Loss : 2.517775356140137, Testing Loss : 3.1779376777648927, Training Accuracy : 0.14418, Testing Accuracy : 0.1\n"
          ]
        },
        {
          "output_type": "stream",
          "name": "stderr",
          "text": [
            "\r 20%|██        | 61/300 [47:03<3:06:08, 46.73s/it]"
          ]
        },
        {
          "output_type": "stream",
          "name": "stdout",
          "text": [
            "Training Loss : 2.779485495605469, Testing Loss : 3.100005589675903, Training Accuracy : 0.1166, Testing Accuracy : 0.0437\n"
          ]
        },
        {
          "output_type": "stream",
          "name": "stderr",
          "text": [
            "\r 21%|██        | 62/300 [47:49<3:05:15, 46.70s/it]"
          ]
        },
        {
          "output_type": "stream",
          "name": "stdout",
          "text": [
            "Training Loss : 3.0876804815673826, Testing Loss : 4.4412119064331055, Training Accuracy : 0.10748, Testing Accuracy : 0.1232\n"
          ]
        },
        {
          "output_type": "stream",
          "name": "stderr",
          "text": [
            "\r 21%|██        | 63/300 [48:36<3:04:13, 46.64s/it]"
          ]
        },
        {
          "output_type": "stream",
          "name": "stdout",
          "text": [
            "Training Loss : 3.3087967251586914, Testing Loss : 2.4468533081054686, Training Accuracy : 0.10296, Testing Accuracy : 0.1\n"
          ]
        },
        {
          "output_type": "stream",
          "name": "stderr",
          "text": [
            "\r 21%|██▏       | 64/300 [49:22<3:03:21, 46.62s/it]"
          ]
        },
        {
          "output_type": "stream",
          "name": "stdout",
          "text": [
            "Training Loss : 2.7055053244018556, Testing Loss : 2.406219746398926, Training Accuracy : 0.0995, Testing Accuracy : 0.1\n"
          ]
        },
        {
          "output_type": "stream",
          "name": "stderr",
          "text": [
            "\r 22%|██▏       | 65/300 [50:09<3:02:58, 46.72s/it]"
          ]
        },
        {
          "output_type": "stream",
          "name": "stdout",
          "text": [
            "Training Loss : 2.4206111560058594, Testing Loss : 2.515573049545288, Training Accuracy : 0.09996, Testing Accuracy : 0.1\n"
          ]
        },
        {
          "output_type": "stream",
          "name": "stderr",
          "text": [
            "\r 22%|██▏       | 66/300 [50:55<3:01:36, 46.56s/it]"
          ]
        },
        {
          "output_type": "stream",
          "name": "stdout",
          "text": [
            "Training Loss : 2.4753505810546876, Testing Loss : 2.560329927444458, Training Accuracy : 0.0996, Testing Accuracy : 0.1\n"
          ]
        },
        {
          "output_type": "stream",
          "name": "stderr",
          "text": [
            "\r 22%|██▏       | 67/300 [51:43<3:01:58, 46.86s/it]"
          ]
        },
        {
          "output_type": "stream",
          "name": "stdout",
          "text": [
            "Training Loss : 2.4528734008789064, Testing Loss : 2.6772962520599366, Training Accuracy : 0.09936, Testing Accuracy : 0.1\n"
          ]
        },
        {
          "output_type": "stream",
          "name": "stderr",
          "text": [
            "\r 23%|██▎       | 68/300 [52:29<3:00:51, 46.77s/it]"
          ]
        },
        {
          "output_type": "stream",
          "name": "stdout",
          "text": [
            "Training Loss : 2.587236312866211, Testing Loss : 2.5352888134002685, Training Accuracy : 0.1003, Testing Accuracy : 0.1\n"
          ]
        },
        {
          "output_type": "stream",
          "name": "stderr",
          "text": [
            "\r 23%|██▎       | 69/300 [53:15<2:59:06, 46.52s/it]"
          ]
        },
        {
          "output_type": "stream",
          "name": "stdout",
          "text": [
            "Training Loss : 2.4496220809936524, Testing Loss : 2.3951477672576904, Training Accuracy : 0.09992, Testing Accuracy : 0.1\n"
          ]
        },
        {
          "output_type": "stream",
          "name": "stderr",
          "text": [
            "\r 23%|██▎       | 70/300 [54:01<2:57:01, 46.18s/it]"
          ]
        },
        {
          "output_type": "stream",
          "name": "stdout",
          "text": [
            "Training Loss : 2.3849750149536133, Testing Loss : 2.371010620880127, Training Accuracy : 0.09994, Testing Accuracy : 0.1\n"
          ]
        },
        {
          "output_type": "stream",
          "name": "stderr",
          "text": [
            "\r 24%|██▎       | 71/300 [54:46<2:55:35, 46.00s/it]"
          ]
        },
        {
          "output_type": "stream",
          "name": "stdout",
          "text": [
            "Training Loss : 2.350973284301758, Testing Loss : 2.4136058418273927, Training Accuracy : 0.0999, Testing Accuracy : 0.1\n"
          ]
        },
        {
          "output_type": "stream",
          "name": "stderr",
          "text": [
            "\r 24%|██▍       | 72/300 [55:32<2:53:57, 45.78s/it]"
          ]
        },
        {
          "output_type": "stream",
          "name": "stdout",
          "text": [
            "Training Loss : 2.387298765258789, Testing Loss : 2.513970098114014, Training Accuracy : 0.09816, Testing Accuracy : 0.1\n"
          ]
        },
        {
          "output_type": "stream",
          "name": "stderr",
          "text": [
            "\r 24%|██▍       | 73/300 [56:18<2:53:45, 45.93s/it]"
          ]
        },
        {
          "output_type": "stream",
          "name": "stdout",
          "text": [
            "Training Loss : 2.4640727352905274, Testing Loss : 2.562182150268555, Training Accuracy : 0.10074, Testing Accuracy : 0.1\n"
          ]
        },
        {
          "output_type": "stream",
          "name": "stderr",
          "text": [
            "\r 25%|██▍       | 74/300 [57:03<2:52:20, 45.75s/it]"
          ]
        },
        {
          "output_type": "stream",
          "name": "stdout",
          "text": [
            "Training Loss : 2.5147304455566406, Testing Loss : 2.519954839706421, Training Accuracy : 0.1018, Testing Accuracy : 0.1\n"
          ]
        },
        {
          "output_type": "stream",
          "name": "stderr",
          "text": [
            "\r 25%|██▌       | 75/300 [57:50<2:52:19, 45.95s/it]"
          ]
        },
        {
          "output_type": "stream",
          "name": "stdout",
          "text": [
            "Training Loss : 2.500971649169922, Testing Loss : 2.7724463356018068, Training Accuracy : 0.10036, Testing Accuracy : 0.0972\n"
          ]
        },
        {
          "output_type": "stream",
          "name": "stderr",
          "text": [
            "\r 25%|██▌       | 76/300 [58:36<2:52:21, 46.17s/it]"
          ]
        },
        {
          "output_type": "stream",
          "name": "stdout",
          "text": [
            "Training Loss : 2.872137500305176, Testing Loss : 2.542043236541748, Training Accuracy : 0.11048, Testing Accuracy : 0.1\n"
          ]
        },
        {
          "output_type": "stream",
          "name": "stderr",
          "text": [
            "\r 26%|██▌       | 77/300 [59:23<2:52:23, 46.38s/it]"
          ]
        },
        {
          "output_type": "stream",
          "name": "stdout",
          "text": [
            "Training Loss : 2.456307748413086, Testing Loss : 2.5595858711242676, Training Accuracy : 0.10392, Testing Accuracy : 0.1\n"
          ]
        },
        {
          "output_type": "stream",
          "name": "stderr",
          "text": [
            "\r 26%|██▌       | 78/300 [1:00:09<2:50:29, 46.08s/it]"
          ]
        },
        {
          "output_type": "stream",
          "name": "stdout",
          "text": [
            "Training Loss : 2.454556512451172, Testing Loss : 46.539337890625, Training Accuracy : 0.10076, Testing Accuracy : 0.098\n"
          ]
        },
        {
          "output_type": "stream",
          "name": "stderr",
          "text": [
            "\r 26%|██▋       | 79/300 [1:00:54<2:49:27, 46.01s/it]"
          ]
        },
        {
          "output_type": "stream",
          "name": "stdout",
          "text": [
            "Training Loss : 2.3717059408569336, Testing Loss : 2.346265243911743, Training Accuracy : 0.10034, Testing Accuracy : 0.1\n"
          ]
        },
        {
          "output_type": "stream",
          "name": "stderr",
          "text": [
            "\r 27%|██▋       | 80/300 [1:01:40<2:47:59, 45.82s/it]"
          ]
        },
        {
          "output_type": "stream",
          "name": "stdout",
          "text": [
            "Training Loss : 2.353632926330566, Testing Loss : 2.440448622894287, Training Accuracy : 0.09936, Testing Accuracy : 0.1\n"
          ]
        },
        {
          "output_type": "stream",
          "name": "stderr",
          "text": [
            "\r 27%|██▋       | 81/300 [1:02:26<2:47:52, 45.99s/it]"
          ]
        },
        {
          "output_type": "stream",
          "name": "stdout",
          "text": [
            "Training Loss : 2.3993267053222658, Testing Loss : 1617.918477734375, Training Accuracy : 0.0987, Testing Accuracy : 0.1\n"
          ]
        },
        {
          "output_type": "stream",
          "name": "stderr",
          "text": [
            "\r 27%|██▋       | 82/300 [1:03:12<2:46:35, 45.85s/it]"
          ]
        },
        {
          "output_type": "stream",
          "name": "stdout",
          "text": [
            "Training Loss : 2.4832296392822264, Testing Loss : 2.447542738342285, Training Accuracy : 0.10088, Testing Accuracy : 0.1\n"
          ]
        },
        {
          "output_type": "stream",
          "name": "stderr",
          "text": [
            "\r 28%|██▊       | 83/300 [1:03:57<2:45:18, 45.71s/it]"
          ]
        },
        {
          "output_type": "stream",
          "name": "stdout",
          "text": [
            "Training Loss : 2.431890593261719, Testing Loss : 2.4838085720062257, Training Accuracy : 0.10022, Testing Accuracy : 0.1\n"
          ]
        },
        {
          "output_type": "stream",
          "name": "stderr",
          "text": [
            "\r 28%|██▊       | 84/300 [1:04:44<2:45:17, 45.92s/it]"
          ]
        },
        {
          "output_type": "stream",
          "name": "stdout",
          "text": [
            "Training Loss : 2.4638724365234377, Testing Loss : 14.627993330383301, Training Accuracy : 0.09858, Testing Accuracy : 0.1\n"
          ]
        },
        {
          "output_type": "stream",
          "name": "stderr",
          "text": [
            "\r 28%|██▊       | 85/300 [1:05:30<2:44:43, 45.97s/it]"
          ]
        },
        {
          "output_type": "stream",
          "name": "stdout",
          "text": [
            "Training Loss : 2.4072517581176758, Testing Loss : 2.485391151046753, Training Accuracy : 0.10054, Testing Accuracy : 0.1\n"
          ]
        },
        {
          "output_type": "stream",
          "name": "stderr",
          "text": [
            "\r 29%|██▊       | 86/300 [1:06:15<2:43:48, 45.93s/it]"
          ]
        },
        {
          "output_type": "stream",
          "name": "stdout",
          "text": [
            "Training Loss : 2.438293346252441, Testing Loss : 2.3418782264709472, Training Accuracy : 0.09866, Testing Accuracy : 0.1\n"
          ]
        },
        {
          "output_type": "stream",
          "name": "stderr",
          "text": [
            "\r 29%|██▉       | 87/300 [1:07:01<2:42:54, 45.89s/it]"
          ]
        },
        {
          "output_type": "stream",
          "name": "stdout",
          "text": [
            "Training Loss : 2.3434983251953123, Testing Loss : 2.3860528816223145, Training Accuracy : 0.09802, Testing Accuracy : 0.1\n"
          ]
        },
        {
          "output_type": "stream",
          "name": "stderr",
          "text": [
            "\r 29%|██▉       | 88/300 [1:07:48<2:42:45, 46.06s/it]"
          ]
        },
        {
          "output_type": "stream",
          "name": "stdout",
          "text": [
            "Training Loss : 2.371936226501465, Testing Loss : 2.414776171875, Training Accuracy : 0.1007, Testing Accuracy : 0.1\n"
          ]
        },
        {
          "output_type": "stream",
          "name": "stderr",
          "text": [
            "\r 30%|██▉       | 89/300 [1:08:33<2:41:14, 45.85s/it]"
          ]
        },
        {
          "output_type": "stream",
          "name": "stdout",
          "text": [
            "Training Loss : 2.3826410610961912, Testing Loss : 2.4851033729553222, Training Accuracy : 0.10004, Testing Accuracy : 0.1\n"
          ]
        },
        {
          "output_type": "stream",
          "name": "stderr",
          "text": [
            "\r 30%|███       | 90/300 [1:09:19<2:40:09, 45.76s/it]"
          ]
        },
        {
          "output_type": "stream",
          "name": "stdout",
          "text": [
            "Training Loss : 2.4300271188354494, Testing Loss : 2.554779864883423, Training Accuracy : 0.10042, Testing Accuracy : 0.1\n"
          ]
        },
        {
          "output_type": "stream",
          "name": "stderr",
          "text": [
            "\r 30%|███       | 91/300 [1:10:05<2:39:39, 45.83s/it]"
          ]
        },
        {
          "output_type": "stream",
          "name": "stdout",
          "text": [
            "Training Loss : 2.569577367553711, Testing Loss : 5.524798861694336, Training Accuracy : 0.09882, Testing Accuracy : 0.1\n"
          ]
        },
        {
          "output_type": "stream",
          "name": "stderr",
          "text": [
            "\r 31%|███       | 92/300 [1:10:51<2:39:24, 45.98s/it]"
          ]
        },
        {
          "output_type": "stream",
          "name": "stdout",
          "text": [
            "Training Loss : 2.56544630065918, Testing Loss : 3.341877395629883, Training Accuracy : 0.10196, Testing Accuracy : 0.0883\n"
          ]
        },
        {
          "output_type": "stream",
          "name": "stderr",
          "text": [
            "\r 31%|███       | 93/300 [1:11:36<2:38:11, 45.85s/it]"
          ]
        },
        {
          "output_type": "stream",
          "name": "stdout",
          "text": [
            "Training Loss : 2.5472007373046877, Testing Loss : 2.6382408271789553, Training Accuracy : 0.1007, Testing Accuracy : 0.1\n"
          ]
        },
        {
          "output_type": "stream",
          "name": "stderr",
          "text": [
            "\r 31%|███▏      | 94/300 [1:12:22<2:37:06, 45.76s/it]"
          ]
        },
        {
          "output_type": "stream",
          "name": "stdout",
          "text": [
            "Training Loss : 2.552547423095703, Testing Loss : 2.824894605636597, Training Accuracy : 0.09768, Testing Accuracy : 0.1\n"
          ]
        },
        {
          "output_type": "stream",
          "name": "stderr",
          "text": [
            "\r 32%|███▏      | 95/300 [1:13:09<2:37:12, 46.01s/it]"
          ]
        },
        {
          "output_type": "stream",
          "name": "stdout",
          "text": [
            "Training Loss : 2.419473578186035, Testing Loss : 2.463644829559326, Training Accuracy : 0.10022, Testing Accuracy : 0.1\n"
          ]
        },
        {
          "output_type": "stream",
          "name": "stderr",
          "text": [
            "\r 32%|███▏      | 96/300 [1:13:55<2:36:48, 46.12s/it]"
          ]
        },
        {
          "output_type": "stream",
          "name": "stdout",
          "text": [
            "Training Loss : 2.435361900939941, Testing Loss : 2.337685669326782, Training Accuracy : 0.09996, Testing Accuracy : 0.1\n"
          ]
        },
        {
          "output_type": "stream",
          "name": "stderr",
          "text": [
            "\r 32%|███▏      | 97/300 [1:14:41<2:35:42, 46.02s/it]"
          ]
        },
        {
          "output_type": "stream",
          "name": "stdout",
          "text": [
            "Training Loss : 2.3316219653320314, Testing Loss : 2.3569857452392577, Training Accuracy : 0.10172, Testing Accuracy : 0.1\n"
          ]
        },
        {
          "output_type": "stream",
          "name": "stderr",
          "text": [
            "\r 33%|███▎      | 98/300 [1:15:26<2:34:15, 45.82s/it]"
          ]
        },
        {
          "output_type": "stream",
          "name": "stdout",
          "text": [
            "Training Loss : 2.3458204187011718, Testing Loss : 3.527041078186035, Training Accuracy : 0.09932, Testing Accuracy : 0.1466\n"
          ]
        },
        {
          "output_type": "stream",
          "name": "stderr",
          "text": [
            "\r 33%|███▎      | 99/300 [1:16:12<2:33:18, 45.76s/it]"
          ]
        },
        {
          "output_type": "stream",
          "name": "stdout",
          "text": [
            "Training Loss : 2.3718811810302736, Testing Loss : 2.4294072010040284, Training Accuracy : 0.1009, Testing Accuracy : 0.0971\n"
          ]
        },
        {
          "output_type": "stream",
          "name": "stderr",
          "text": [
            "\r 33%|███▎      | 100/300 [1:16:58<2:33:04, 45.92s/it]"
          ]
        },
        {
          "output_type": "stream",
          "name": "stdout",
          "text": [
            "Training Loss : 2.389052999267578, Testing Loss : 1201.4688326171874, Training Accuracy : 0.1022, Testing Accuracy : 0.1\n"
          ]
        },
        {
          "output_type": "stream",
          "name": "stderr",
          "text": [
            "\r 34%|███▎      | 101/300 [1:17:45<2:32:57, 46.12s/it]"
          ]
        },
        {
          "output_type": "stream",
          "name": "stdout",
          "text": [
            "Training Loss : 2.3466328149414064, Testing Loss : 2.476191826248169, Training Accuracy : 0.11424, Testing Accuracy : 0.1001\n"
          ]
        },
        {
          "output_type": "stream",
          "name": "stderr",
          "text": [
            "\r 34%|███▍      | 102/300 [1:18:31<2:32:42, 46.27s/it]"
          ]
        },
        {
          "output_type": "stream",
          "name": "stdout",
          "text": [
            "Training Loss : 2.378499672241211, Testing Loss : 2.494949271392822, Training Accuracy : 0.11272, Testing Accuracy : 0.11\n"
          ]
        },
        {
          "output_type": "stream",
          "name": "stderr",
          "text": [
            "\r 34%|███▍      | 103/300 [1:19:18<2:31:57, 46.28s/it]"
          ]
        },
        {
          "output_type": "stream",
          "name": "stdout",
          "text": [
            "Training Loss : 2.403219117126465, Testing Loss : 177.95829672851562, Training Accuracy : 0.10822, Testing Accuracy : 0.1\n"
          ]
        },
        {
          "output_type": "stream",
          "name": "stderr",
          "text": [
            "\r 35%|███▍      | 104/300 [1:20:04<2:30:56, 46.20s/it]"
          ]
        },
        {
          "output_type": "stream",
          "name": "stdout",
          "text": [
            "Training Loss : 2.3936984298706054, Testing Loss : 2.434511806869507, Training Accuracy : 0.10162, Testing Accuracy : 0.1\n"
          ]
        },
        {
          "output_type": "stream",
          "name": "stderr",
          "text": [
            "\r 35%|███▌      | 105/300 [1:20:49<2:29:12, 45.91s/it]"
          ]
        },
        {
          "output_type": "stream",
          "name": "stdout",
          "text": [
            "Training Loss : 2.402481226501465, Testing Loss : 2.394750062561035, Training Accuracy : 0.09988, Testing Accuracy : 0.1\n"
          ]
        },
        {
          "output_type": "stream",
          "name": "stderr",
          "text": [
            "\r 35%|███▌      | 106/300 [1:21:36<2:29:10, 46.14s/it]"
          ]
        },
        {
          "output_type": "stream",
          "name": "stdout",
          "text": [
            "Training Loss : 2.3455167590332033, Testing Loss : 352.0617815185547, Training Accuracy : 0.10786, Testing Accuracy : 0.1\n"
          ]
        },
        {
          "output_type": "stream",
          "name": "stderr",
          "text": [
            "\r 36%|███▌      | 107/300 [1:22:22<2:28:39, 46.22s/it]"
          ]
        },
        {
          "output_type": "stream",
          "name": "stdout",
          "text": [
            "Training Loss : 2.327301355895996, Testing Loss : 2.3707990436553956, Training Accuracy : 0.1253, Testing Accuracy : 0.1327\n"
          ]
        },
        {
          "output_type": "stream",
          "name": "stderr",
          "text": [
            "\r 36%|███▌      | 108/300 [1:23:09<2:28:48, 46.50s/it]"
          ]
        },
        {
          "output_type": "stream",
          "name": "stdout",
          "text": [
            "Training Loss : 2.348327589416504, Testing Loss : 2.371774095916748, Training Accuracy : 0.1346, Testing Accuracy : 0.1541\n"
          ]
        },
        {
          "output_type": "stream",
          "name": "stderr",
          "text": [
            "\r 36%|███▋      | 109/300 [1:23:56<2:28:03, 46.51s/it]"
          ]
        },
        {
          "output_type": "stream",
          "name": "stdout",
          "text": [
            "Training Loss : 2.312938955993652, Testing Loss : 8.827584533691406, Training Accuracy : 0.13004, Testing Accuracy : 0.1\n"
          ]
        },
        {
          "output_type": "stream",
          "name": "stderr",
          "text": [
            "\r 37%|███▋      | 110/300 [1:24:43<2:27:45, 46.66s/it]"
          ]
        },
        {
          "output_type": "stream",
          "name": "stdout",
          "text": [
            "Training Loss : 2.298532796936035, Testing Loss : 878.2397393554687, Training Accuracy : 0.14574, Testing Accuracy : 0.1165\n"
          ]
        },
        {
          "output_type": "stream",
          "name": "stderr",
          "text": [
            "\r 37%|███▋      | 111/300 [1:25:30<2:28:03, 47.00s/it]"
          ]
        },
        {
          "output_type": "stream",
          "name": "stdout",
          "text": [
            "Training Loss : 2.3105129290771482, Testing Loss : 2.3087016319274904, Training Accuracy : 0.16176, Testing Accuracy : 0.1793\n"
          ]
        },
        {
          "output_type": "stream",
          "name": "stderr",
          "text": [
            "\r 37%|███▋      | 112/300 [1:26:17<2:26:47, 46.85s/it]"
          ]
        },
        {
          "output_type": "stream",
          "name": "stdout",
          "text": [
            "Training Loss : 2.2258296154785158, Testing Loss : 2.409288143157959, Training Accuracy : 0.15848, Testing Accuracy : 0.165\n"
          ]
        },
        {
          "output_type": "stream",
          "name": "stderr",
          "text": [
            "\r 38%|███▊      | 113/300 [1:27:03<2:25:43, 46.76s/it]"
          ]
        },
        {
          "output_type": "stream",
          "name": "stdout",
          "text": [
            "Training Loss : 2.141900506591797, Testing Loss : 2.1450246200561525, Training Accuracy : 0.17626, Testing Accuracy : 0.1644\n"
          ]
        },
        {
          "output_type": "stream",
          "name": "stderr",
          "text": [
            "\r 38%|███▊      | 114/300 [1:27:50<2:24:42, 46.68s/it]"
          ]
        },
        {
          "output_type": "stream",
          "name": "stdout",
          "text": [
            "Training Loss : 2.1443902749633788, Testing Loss : 3.6710793212890627, Training Accuracy : 0.18218, Testing Accuracy : 0.1124\n"
          ]
        },
        {
          "output_type": "stream",
          "name": "stderr",
          "text": [
            "\r 38%|███▊      | 115/300 [1:28:37<2:24:17, 46.80s/it]"
          ]
        },
        {
          "output_type": "stream",
          "name": "stdout",
          "text": [
            "Training Loss : 2.090597703552246, Testing Loss : 2.201395180130005, Training Accuracy : 0.18212, Testing Accuracy : 0.1467\n"
          ]
        },
        {
          "output_type": "stream",
          "name": "stderr",
          "text": [
            "\r 39%|███▊      | 116/300 [1:29:23<2:23:10, 46.69s/it]"
          ]
        },
        {
          "output_type": "stream",
          "name": "stdout",
          "text": [
            "Training Loss : 2.147568490600586, Testing Loss : 2.278934917831421, Training Accuracy : 0.17228, Testing Accuracy : 0.1533\n"
          ]
        },
        {
          "output_type": "stream",
          "name": "stderr",
          "text": [
            "\r 39%|███▉      | 117/300 [1:30:10<2:22:13, 46.63s/it]"
          ]
        },
        {
          "output_type": "stream",
          "name": "stdout",
          "text": [
            "Training Loss : 2.2091230221557616, Testing Loss : 2.732260503768921, Training Accuracy : 0.16602, Testing Accuracy : 0.1575\n"
          ]
        },
        {
          "output_type": "stream",
          "name": "stderr",
          "text": [
            "\r 39%|███▉      | 118/300 [1:30:56<2:21:14, 46.57s/it]"
          ]
        },
        {
          "output_type": "stream",
          "name": "stdout",
          "text": [
            "Training Loss : 2.249208679199219, Testing Loss : 2.0496350841522215, Training Accuracy : 0.176, Testing Accuracy : 0.1886\n"
          ]
        },
        {
          "output_type": "stream",
          "name": "stderr",
          "text": [
            "\r 40%|███▉      | 119/300 [1:31:43<2:20:37, 46.62s/it]"
          ]
        },
        {
          "output_type": "stream",
          "name": "stdout",
          "text": [
            "Training Loss : 2.153663664855957, Testing Loss : 2.2836328346252444, Training Accuracy : 0.1731, Testing Accuracy : 0.1527\n"
          ]
        },
        {
          "output_type": "stream",
          "name": "stderr",
          "text": [
            "\r 40%|████      | 120/300 [1:32:29<2:19:34, 46.52s/it]"
          ]
        },
        {
          "output_type": "stream",
          "name": "stdout",
          "text": [
            "Training Loss : 2.2621705728149415, Testing Loss : 2.3435406021118164, Training Accuracy : 0.16722, Testing Accuracy : 0.1522\n"
          ]
        },
        {
          "output_type": "stream",
          "name": "stderr",
          "text": [
            "\r 40%|████      | 121/300 [1:33:16<2:18:54, 46.56s/it]"
          ]
        },
        {
          "output_type": "stream",
          "name": "stdout",
          "text": [
            "Training Loss : 2.175182183227539, Testing Loss : 2.084823511505127, Training Accuracy : 0.17162, Testing Accuracy : 0.1682\n"
          ]
        },
        {
          "output_type": "stream",
          "name": "stderr",
          "text": [
            "\r 41%|████      | 122/300 [1:34:03<2:18:11, 46.58s/it]"
          ]
        },
        {
          "output_type": "stream",
          "name": "stdout",
          "text": [
            "Training Loss : 2.082027158508301, Testing Loss : 2.2561065170288086, Training Accuracy : 0.1823, Testing Accuracy : 0.1914\n"
          ]
        },
        {
          "output_type": "stream",
          "name": "stderr",
          "text": [
            "\r 41%|████      | 123/300 [1:34:50<2:17:47, 46.71s/it]"
          ]
        },
        {
          "output_type": "stream",
          "name": "stdout",
          "text": [
            "Training Loss : 2.11250015625, Testing Loss : 2.0583887588500978, Training Accuracy : 0.18064, Testing Accuracy : 0.1778\n"
          ]
        },
        {
          "output_type": "stream",
          "name": "stderr",
          "text": [
            "\r 41%|████▏     | 124/300 [1:35:36<2:16:43, 46.61s/it]"
          ]
        },
        {
          "output_type": "stream",
          "name": "stdout",
          "text": [
            "Training Loss : 1.9995984875488282, Testing Loss : 2.039938011741638, Training Accuracy : 0.18266, Testing Accuracy : 0.1748\n"
          ]
        },
        {
          "output_type": "stream",
          "name": "stderr",
          "text": [
            "\r 42%|████▏     | 125/300 [1:36:22<2:15:46, 46.55s/it]"
          ]
        },
        {
          "output_type": "stream",
          "name": "stdout",
          "text": [
            "Training Loss : 1.9606728482055664, Testing Loss : 2.0328791507720947, Training Accuracy : 0.18942, Testing Accuracy : 0.1833\n"
          ]
        },
        {
          "output_type": "stream",
          "name": "stderr",
          "text": [
            "\r 42%|████▏     | 126/300 [1:37:11<2:16:18, 47.00s/it]"
          ]
        },
        {
          "output_type": "stream",
          "name": "stdout",
          "text": [
            "Training Loss : 2.0225973248291016, Testing Loss : 2.068957204055786, Training Accuracy : 0.17358, Testing Accuracy : 0.197\n"
          ]
        },
        {
          "output_type": "stream",
          "name": "stderr",
          "text": [
            "\r 42%|████▏     | 127/300 [1:37:57<2:14:59, 46.82s/it]"
          ]
        },
        {
          "output_type": "stream",
          "name": "stdout",
          "text": [
            "Training Loss : 1.9767213458251953, Testing Loss : 1.9820202701568603, Training Accuracy : 0.189, Testing Accuracy : 0.1748\n"
          ]
        },
        {
          "output_type": "stream",
          "name": "stderr",
          "text": [
            "\r 43%|████▎     | 128/300 [1:38:43<2:13:37, 46.61s/it]"
          ]
        },
        {
          "output_type": "stream",
          "name": "stdout",
          "text": [
            "Training Loss : 1.9895752157592774, Testing Loss : 2.097380437469482, Training Accuracy : 0.18822, Testing Accuracy : 0.1962\n"
          ]
        },
        {
          "output_type": "stream",
          "name": "stderr",
          "text": [
            "\r 43%|████▎     | 129/300 [1:39:29<2:12:32, 46.51s/it]"
          ]
        },
        {
          "output_type": "stream",
          "name": "stdout",
          "text": [
            "Training Loss : 1.9955642053222655, Testing Loss : 2.176168687438965, Training Accuracy : 0.1993, Testing Accuracy : 0.1955\n"
          ]
        },
        {
          "output_type": "stream",
          "name": "stderr",
          "text": [
            "\r 43%|████▎     | 130/300 [1:40:16<2:12:15, 46.68s/it]"
          ]
        },
        {
          "output_type": "stream",
          "name": "stdout",
          "text": [
            "Training Loss : 2.10500264251709, Testing Loss : 2.1058278762817384, Training Accuracy : 0.19236, Testing Accuracy : 0.1785\n"
          ]
        },
        {
          "output_type": "stream",
          "name": "stderr",
          "text": [
            "\r 44%|████▎     | 131/300 [1:41:03<2:11:11, 46.58s/it]"
          ]
        },
        {
          "output_type": "stream",
          "name": "stdout",
          "text": [
            "Training Loss : 2.0422523208618166, Testing Loss : 2.0009205360412596, Training Accuracy : 0.19216, Testing Accuracy : 0.1812\n"
          ]
        },
        {
          "output_type": "stream",
          "name": "stderr",
          "text": [
            "\r 44%|████▍     | 132/300 [1:41:49<2:10:10, 46.49s/it]"
          ]
        },
        {
          "output_type": "stream",
          "name": "stdout",
          "text": [
            "Training Loss : 1.957433473815918, Testing Loss : 1.9564366050720214, Training Accuracy : 0.2084, Testing Accuracy : 0.1923\n"
          ]
        },
        {
          "output_type": "stream",
          "name": "stderr",
          "text": [
            "\r 44%|████▍     | 133/300 [1:42:35<2:09:16, 46.45s/it]"
          ]
        },
        {
          "output_type": "stream",
          "name": "stdout",
          "text": [
            "Training Loss : 1.8990550344848633, Testing Loss : 1.9388056751251221, Training Accuracy : 0.21798, Testing Accuracy : 0.2511\n"
          ]
        },
        {
          "output_type": "stream",
          "name": "stderr",
          "text": [
            "\r 45%|████▍     | 134/300 [1:43:23<2:09:04, 46.65s/it]"
          ]
        },
        {
          "output_type": "stream",
          "name": "stdout",
          "text": [
            "Training Loss : 1.9323573678588868, Testing Loss : 1.9439836738586427, Training Accuracy : 0.21746, Testing Accuracy : 0.254\n"
          ]
        },
        {
          "output_type": "stream",
          "name": "stderr",
          "text": [
            "\r 45%|████▌     | 135/300 [1:44:09<2:08:01, 46.55s/it]"
          ]
        },
        {
          "output_type": "stream",
          "name": "stdout",
          "text": [
            "Training Loss : 1.8676541375732423, Testing Loss : 1.9373527641296386, Training Accuracy : 0.22536, Testing Accuracy : 0.2403\n"
          ]
        },
        {
          "output_type": "stream",
          "name": "stderr",
          "text": [
            "\r 45%|████▌     | 136/300 [1:44:55<2:07:02, 46.48s/it]"
          ]
        },
        {
          "output_type": "stream",
          "name": "stdout",
          "text": [
            "Training Loss : 1.9921829318237305, Testing Loss : 2.0237525241851806, Training Accuracy : 0.21256, Testing Accuracy : 0.2285\n"
          ]
        },
        {
          "output_type": "stream",
          "name": "stderr",
          "text": [
            "\r 46%|████▌     | 137/300 [1:45:41<2:06:02, 46.40s/it]"
          ]
        },
        {
          "output_type": "stream",
          "name": "stdout",
          "text": [
            "Training Loss : 1.97293197265625, Testing Loss : 1.986587752532959, Training Accuracy : 0.21616, Testing Accuracy : 0.184\n"
          ]
        },
        {
          "output_type": "stream",
          "name": "stderr",
          "text": [
            "\r 46%|████▌     | 138/300 [1:46:28<2:05:30, 46.49s/it]"
          ]
        },
        {
          "output_type": "stream",
          "name": "stdout",
          "text": [
            "Training Loss : 1.9833788894653321, Testing Loss : 1.9974216766357422, Training Accuracy : 0.21666, Testing Accuracy : 0.223\n"
          ]
        },
        {
          "output_type": "stream",
          "name": "stderr",
          "text": [
            "\r 46%|████▋     | 139/300 [1:47:14<2:04:26, 46.38s/it]"
          ]
        },
        {
          "output_type": "stream",
          "name": "stdout",
          "text": [
            "Training Loss : 1.869641618347168, Testing Loss : 1.960651330947876, Training Accuracy : 0.23644, Testing Accuracy : 0.2185\n"
          ]
        },
        {
          "output_type": "stream",
          "name": "stderr",
          "text": [
            "\r 47%|████▋     | 140/300 [1:48:02<2:04:34, 46.72s/it]"
          ]
        },
        {
          "output_type": "stream",
          "name": "stdout",
          "text": [
            "Training Loss : 1.870050284423828, Testing Loss : 2.0920813720703126, Training Accuracy : 0.23054, Testing Accuracy : 0.2328\n"
          ]
        },
        {
          "output_type": "stream",
          "name": "stderr",
          "text": [
            "\r 47%|████▋     | 141/300 [1:48:48<2:03:33, 46.62s/it]"
          ]
        },
        {
          "output_type": "stream",
          "name": "stdout",
          "text": [
            "Training Loss : 1.9311352911376953, Testing Loss : 2.798494596862793, Training Accuracy : 0.22482, Testing Accuracy : 0.1691\n"
          ]
        },
        {
          "output_type": "stream",
          "name": "stderr",
          "text": [
            "\r 47%|████▋     | 142/300 [1:49:35<2:02:52, 46.66s/it]"
          ]
        },
        {
          "output_type": "stream",
          "name": "stdout",
          "text": [
            "Training Loss : 2.007141932373047, Testing Loss : 2.0343853031158448, Training Accuracy : 0.21068, Testing Accuracy : 0.245\n"
          ]
        },
        {
          "output_type": "stream",
          "name": "stderr",
          "text": [
            "\r 48%|████▊     | 143/300 [1:50:21<2:01:46, 46.54s/it]"
          ]
        },
        {
          "output_type": "stream",
          "name": "stdout",
          "text": [
            "Training Loss : 1.8336752099609375, Testing Loss : 11.548586909484863, Training Accuracy : 0.24024, Testing Accuracy : 0.1655\n"
          ]
        },
        {
          "output_type": "stream",
          "name": "stderr",
          "text": [
            "\r 48%|████▊     | 144/300 [1:51:07<2:00:48, 46.46s/it]"
          ]
        },
        {
          "output_type": "stream",
          "name": "stdout",
          "text": [
            "Training Loss : 1.80536970703125, Testing Loss : 1.8143708827972411, Training Accuracy : 0.25498, Testing Accuracy : 0.2647\n"
          ]
        },
        {
          "output_type": "stream",
          "name": "stderr",
          "text": [
            "\r 48%|████▊     | 145/300 [1:51:55<2:00:43, 46.73s/it]"
          ]
        },
        {
          "output_type": "stream",
          "name": "stdout",
          "text": [
            "Training Loss : 1.8070640344238282, Testing Loss : 1.804714369392395, Training Accuracy : 0.25646, Testing Accuracy : 0.2641\n"
          ]
        },
        {
          "output_type": "stream",
          "name": "stderr",
          "text": [
            "\r 49%|████▊     | 146/300 [1:52:41<1:59:39, 46.62s/it]"
          ]
        },
        {
          "output_type": "stream",
          "name": "stdout",
          "text": [
            "Training Loss : 1.7905412362670898, Testing Loss : 1.8038689922332765, Training Accuracy : 0.25202, Testing Accuracy : 0.2598\n"
          ]
        },
        {
          "output_type": "stream",
          "name": "stderr",
          "text": [
            "\r 49%|████▉     | 147/300 [1:53:27<1:58:36, 46.51s/it]"
          ]
        },
        {
          "output_type": "stream",
          "name": "stdout",
          "text": [
            "Training Loss : 1.7911935754394532, Testing Loss : 1.835210033416748, Training Accuracy : 0.25914, Testing Accuracy : 0.24\n"
          ]
        },
        {
          "output_type": "stream",
          "name": "stderr",
          "text": [
            "\r 49%|████▉     | 148/300 [1:54:14<1:57:43, 46.47s/it]"
          ]
        },
        {
          "output_type": "stream",
          "name": "stdout",
          "text": [
            "Training Loss : 1.8504077740478515, Testing Loss : 1.9906511962890625, Training Accuracy : 0.25406, Testing Accuracy : 0.2285\n"
          ]
        },
        {
          "output_type": "stream",
          "name": "stderr",
          "text": [
            "\r 50%|████▉     | 149/300 [1:55:00<1:57:02, 46.51s/it]"
          ]
        },
        {
          "output_type": "stream",
          "name": "stdout",
          "text": [
            "Training Loss : 1.9605817880249023, Testing Loss : 1.9060685585021973, Training Accuracy : 0.23994, Testing Accuracy : 0.2466\n"
          ]
        },
        {
          "output_type": "stream",
          "name": "stderr",
          "text": [
            "\r 50%|█████     | 150/300 [1:55:47<1:56:03, 46.42s/it]"
          ]
        },
        {
          "output_type": "stream",
          "name": "stdout",
          "text": [
            "Training Loss : 1.8629485983276368, Testing Loss : 1.8905498313903808, Training Accuracy : 0.2413, Testing Accuracy : 0.2687\n"
          ]
        },
        {
          "output_type": "stream",
          "name": "stderr",
          "text": [
            "\r 50%|█████     | 151/300 [1:56:33<1:55:08, 46.36s/it]"
          ]
        },
        {
          "output_type": "stream",
          "name": "stdout",
          "text": [
            "Training Loss : 1.8533541790771484, Testing Loss : 3.7194016075134275, Training Accuracy : 0.25354, Testing Accuracy : 0.226\n"
          ]
        },
        {
          "output_type": "stream",
          "name": "stderr",
          "text": [
            "\r 51%|█████     | 152/300 [1:57:19<1:54:12, 46.30s/it]"
          ]
        },
        {
          "output_type": "stream",
          "name": "stdout",
          "text": [
            "Training Loss : 1.8445890594482421, Testing Loss : 1.9527980632781983, Training Accuracy : 0.26768, Testing Accuracy : 0.2619\n"
          ]
        },
        {
          "output_type": "stream",
          "name": "stderr",
          "text": [
            "\r 51%|█████     | 153/300 [1:58:07<1:54:39, 46.80s/it]"
          ]
        },
        {
          "output_type": "stream",
          "name": "stdout",
          "text": [
            "Training Loss : 1.8508912799072266, Testing Loss : 1.8642084396362304, Training Accuracy : 0.25624, Testing Accuracy : 0.2209\n"
          ]
        },
        {
          "output_type": "stream",
          "name": "stderr",
          "text": [
            "\r 51%|█████▏    | 154/300 [1:58:54<1:53:56, 46.83s/it]"
          ]
        },
        {
          "output_type": "stream",
          "name": "stdout",
          "text": [
            "Training Loss : 1.828842699584961, Testing Loss : 2.1499965005874633, Training Accuracy : 0.25786, Testing Accuracy : 0.258\n"
          ]
        },
        {
          "output_type": "stream",
          "name": "stderr",
          "text": [
            "\r 52%|█████▏    | 155/300 [1:59:40<1:52:44, 46.66s/it]"
          ]
        },
        {
          "output_type": "stream",
          "name": "stdout",
          "text": [
            "Training Loss : 1.760931612854004, Testing Loss : 1.9267533035278321, Training Accuracy : 0.27686, Testing Accuracy : 0.2667\n"
          ]
        },
        {
          "output_type": "stream",
          "name": "stderr",
          "text": [
            "\r 52%|█████▏    | 156/300 [2:00:26<1:51:41, 46.54s/it]"
          ]
        },
        {
          "output_type": "stream",
          "name": "stdout",
          "text": [
            "Training Loss : 1.8342504864501954, Testing Loss : 1.9266658950805664, Training Accuracy : 0.2726, Testing Accuracy : 0.2712\n"
          ]
        },
        {
          "output_type": "stream",
          "name": "stderr",
          "text": [
            "\r 52%|█████▏    | 157/300 [2:01:13<1:51:08, 46.63s/it]"
          ]
        },
        {
          "output_type": "stream",
          "name": "stdout",
          "text": [
            "Training Loss : 1.7915247689819336, Testing Loss : 1.9080922443389892, Training Accuracy : 0.28876, Testing Accuracy : 0.2477\n"
          ]
        },
        {
          "output_type": "stream",
          "name": "stderr",
          "text": [
            "\r 53%|█████▎    | 158/300 [2:01:59<1:50:09, 46.54s/it]"
          ]
        },
        {
          "output_type": "stream",
          "name": "stdout",
          "text": [
            "Training Loss : 1.8264014880371093, Testing Loss : 1.8678733604431152, Training Accuracy : 0.28032, Testing Accuracy : 0.277\n"
          ]
        },
        {
          "output_type": "stream",
          "name": "stderr",
          "text": [
            "\r 53%|█████▎    | 159/300 [2:02:46<1:49:14, 46.49s/it]"
          ]
        },
        {
          "output_type": "stream",
          "name": "stdout",
          "text": [
            "Training Loss : 1.7353237503051757, Testing Loss : 1.776922811126709, Training Accuracy : 0.315, Testing Accuracy : 0.3368\n"
          ]
        },
        {
          "output_type": "stream",
          "name": "stderr",
          "text": [
            "\r 53%|█████▎    | 160/300 [2:03:32<1:48:20, 46.43s/it]"
          ]
        },
        {
          "output_type": "stream",
          "name": "stdout",
          "text": [
            "Training Loss : 1.6262195556640624, Testing Loss : 1.8742898189544677, Training Accuracy : 0.35938, Testing Accuracy : 0.2984\n"
          ]
        },
        {
          "output_type": "stream",
          "name": "stderr",
          "text": [
            "\r 54%|█████▎    | 161/300 [2:04:19<1:47:54, 46.58s/it]"
          ]
        },
        {
          "output_type": "stream",
          "name": "stdout",
          "text": [
            "Training Loss : 1.5743045486450196, Testing Loss : 1.6735516023635864, Training Accuracy : 0.37724, Testing Accuracy : 0.389\n"
          ]
        },
        {
          "output_type": "stream",
          "name": "stderr",
          "text": [
            "\r 54%|█████▍    | 162/300 [2:05:05<1:46:57, 46.50s/it]"
          ]
        },
        {
          "output_type": "stream",
          "name": "stdout",
          "text": [
            "Training Loss : 1.6290727044677735, Testing Loss : 1.836646845626831, Training Accuracy : 0.36802, Testing Accuracy : 0.2991\n"
          ]
        },
        {
          "output_type": "stream",
          "name": "stderr",
          "text": [
            "\r 54%|█████▍    | 163/300 [2:05:52<1:46:12, 46.51s/it]"
          ]
        },
        {
          "output_type": "stream",
          "name": "stdout",
          "text": [
            "Training Loss : 1.7204108123779296, Testing Loss : 4.003783879852295, Training Accuracy : 0.3389, Testing Accuracy : 0.2592\n"
          ]
        },
        {
          "output_type": "stream",
          "name": "stderr",
          "text": [
            "\r 55%|█████▍    | 164/300 [2:06:38<1:45:23, 46.49s/it]"
          ]
        },
        {
          "output_type": "stream",
          "name": "stdout",
          "text": [
            "Training Loss : 1.6150378240966796, Testing Loss : 1.6254203296661376, Training Accuracy : 0.38454, Testing Accuracy : 0.352\n"
          ]
        },
        {
          "output_type": "stream",
          "name": "stderr",
          "text": [
            "\r 55%|█████▌    | 165/300 [2:07:25<1:45:00, 46.67s/it]"
          ]
        },
        {
          "output_type": "stream",
          "name": "stdout",
          "text": [
            "Training Loss : 1.5166275462341308, Testing Loss : 1.6003599666595458, Training Accuracy : 0.41234, Testing Accuracy : 0.4222\n"
          ]
        },
        {
          "output_type": "stream",
          "name": "stderr",
          "text": [
            "\r 55%|█████▌    | 166/300 [2:08:12<1:44:09, 46.64s/it]"
          ]
        },
        {
          "output_type": "stream",
          "name": "stdout",
          "text": [
            "Training Loss : 1.4882951873779298, Testing Loss : 1.6552371299743653, Training Accuracy : 0.43148, Testing Accuracy : 0.3823\n"
          ]
        },
        {
          "output_type": "stream",
          "name": "stderr",
          "text": [
            "\r 56%|█████▌    | 167/300 [2:08:58<1:43:16, 46.59s/it]"
          ]
        },
        {
          "output_type": "stream",
          "name": "stdout",
          "text": [
            "Training Loss : 1.5282604400634765, Testing Loss : 1.8972901531219482, Training Accuracy : 0.42496, Testing Accuracy : 0.4205\n"
          ]
        },
        {
          "output_type": "stream",
          "name": "stderr",
          "text": [
            "\r 56%|█████▌    | 168/300 [2:09:45<1:42:19, 46.51s/it]"
          ]
        },
        {
          "output_type": "stream",
          "name": "stdout",
          "text": [
            "Training Loss : 1.5574519812011718, Testing Loss : 1.732872855567932, Training Accuracy : 0.41798, Testing Accuracy : 0.3473\n"
          ]
        },
        {
          "output_type": "stream",
          "name": "stderr",
          "text": [
            "\r 56%|█████▋    | 169/300 [2:10:32<1:41:45, 46.61s/it]"
          ]
        },
        {
          "output_type": "stream",
          "name": "stdout",
          "text": [
            "Training Loss : 1.432235125732422, Testing Loss : 1.7490534494400025, Training Accuracy : 0.4605, Testing Accuracy : 0.4023\n"
          ]
        },
        {
          "output_type": "stream",
          "name": "stderr",
          "text": [
            "\r 57%|█████▋    | 170/300 [2:11:18<1:40:51, 46.55s/it]"
          ]
        },
        {
          "output_type": "stream",
          "name": "stdout",
          "text": [
            "Training Loss : 1.4725666947937013, Testing Loss : 1.5335500507354736, Training Accuracy : 0.45144, Testing Accuracy : 0.435\n"
          ]
        },
        {
          "output_type": "stream",
          "name": "stderr",
          "text": [
            "\r 57%|█████▋    | 171/300 [2:12:05<1:40:05, 46.55s/it]"
          ]
        },
        {
          "output_type": "stream",
          "name": "stdout",
          "text": [
            "Training Loss : 1.3995360243225097, Testing Loss : 1.3618396047592163, Training Accuracy : 0.46664, Testing Accuracy : 0.4832\n"
          ]
        },
        {
          "output_type": "stream",
          "name": "stderr",
          "text": [
            "\r 57%|█████▋    | 172/300 [2:12:51<1:39:29, 46.64s/it]"
          ]
        },
        {
          "output_type": "stream",
          "name": "stdout",
          "text": [
            "Training Loss : 1.3272637905883788, Testing Loss : 1.5049765293121338, Training Accuracy : 0.50332, Testing Accuracy : 0.4804\n"
          ]
        },
        {
          "output_type": "stream",
          "name": "stderr",
          "text": [
            "\r 58%|█████▊    | 173/300 [2:13:40<1:39:38, 47.07s/it]"
          ]
        },
        {
          "output_type": "stream",
          "name": "stdout",
          "text": [
            "Training Loss : 1.3165990657043456, Testing Loss : 1.5638868816375733, Training Accuracy : 0.5034, Testing Accuracy : 0.4742\n"
          ]
        },
        {
          "output_type": "stream",
          "name": "stderr",
          "text": [
            "\r 58%|█████▊    | 174/300 [2:14:26<1:38:24, 46.86s/it]"
          ]
        },
        {
          "output_type": "stream",
          "name": "stdout",
          "text": [
            "Training Loss : 1.3939675848388673, Testing Loss : 1.5938134620666504, Training Accuracy : 0.4827, Testing Accuracy : 0.4733\n"
          ]
        },
        {
          "output_type": "stream",
          "name": "stderr",
          "text": [
            "\r 58%|█████▊    | 175/300 [2:15:12<1:37:22, 46.74s/it]"
          ]
        },
        {
          "output_type": "stream",
          "name": "stdout",
          "text": [
            "Training Loss : 1.3553385885620117, Testing Loss : 1.3314161046981812, Training Accuracy : 0.49058, Testing Accuracy : 0.5249\n"
          ]
        },
        {
          "output_type": "stream",
          "name": "stderr",
          "text": [
            "\r 59%|█████▊    | 176/300 [2:15:59<1:36:19, 46.61s/it]"
          ]
        },
        {
          "output_type": "stream",
          "name": "stdout",
          "text": [
            "Training Loss : 1.274346205291748, Testing Loss : 1.2874804319381714, Training Accuracy : 0.52302, Testing Accuracy : 0.5358\n"
          ]
        },
        {
          "output_type": "stream",
          "name": "stderr",
          "text": [
            "\r 59%|█████▉    | 177/300 [2:16:46<1:35:41, 46.68s/it]"
          ]
        },
        {
          "output_type": "stream",
          "name": "stdout",
          "text": [
            "Training Loss : 1.2650675659179687, Testing Loss : 1.3121408880233765, Training Accuracy : 0.52804, Testing Accuracy : 0.5239\n"
          ]
        },
        {
          "output_type": "stream",
          "name": "stderr",
          "text": [
            "\r 59%|█████▉    | 178/300 [2:17:32<1:34:39, 46.55s/it]"
          ]
        },
        {
          "output_type": "stream",
          "name": "stdout",
          "text": [
            "Training Loss : 1.2311266534423828, Testing Loss : 1.3726003875732422, Training Accuracy : 0.54018, Testing Accuracy : 0.511\n"
          ]
        },
        {
          "output_type": "stream",
          "name": "stderr",
          "text": [
            "\r 60%|█████▉    | 179/300 [2:18:18<1:33:44, 46.48s/it]"
          ]
        },
        {
          "output_type": "stream",
          "name": "stdout",
          "text": [
            "Training Loss : 1.30165431930542, Testing Loss : 2.257871770477295, Training Accuracy : 0.51984, Testing Accuracy : 0.3552\n"
          ]
        },
        {
          "output_type": "stream",
          "name": "stderr",
          "text": [
            "\r 60%|██████    | 180/300 [2:19:04<1:32:49, 46.41s/it]"
          ]
        },
        {
          "output_type": "stream",
          "name": "stdout",
          "text": [
            "Training Loss : 1.2843709934997558, Testing Loss : 1.2268084823608398, Training Accuracy : 0.52222, Testing Accuracy : 0.5421\n"
          ]
        },
        {
          "output_type": "stream",
          "name": "stderr",
          "text": [
            "\r 60%|██████    | 181/300 [2:19:51<1:32:13, 46.50s/it]"
          ]
        },
        {
          "output_type": "stream",
          "name": "stdout",
          "text": [
            "Training Loss : 1.2297289584350586, Testing Loss : 1.3444320791244506, Training Accuracy : 0.53448, Testing Accuracy : 0.4937\n"
          ]
        },
        {
          "output_type": "stream",
          "name": "stderr",
          "text": [
            "\r 61%|██████    | 182/300 [2:20:37<1:31:23, 46.47s/it]"
          ]
        },
        {
          "output_type": "stream",
          "name": "stdout",
          "text": [
            "Training Loss : 1.252461188659668, Testing Loss : 1.46049781665802, Training Accuracy : 0.52944, Testing Accuracy : 0.4966\n"
          ]
        },
        {
          "output_type": "stream",
          "name": "stderr",
          "text": [
            "\r 61%|██████    | 183/300 [2:21:24<1:30:31, 46.42s/it]"
          ]
        },
        {
          "output_type": "stream",
          "name": "stdout",
          "text": [
            "Training Loss : 1.2870271969604492, Testing Loss : 1.511271306991577, Training Accuracy : 0.52682, Testing Accuracy : 0.4425\n"
          ]
        },
        {
          "output_type": "stream",
          "name": "stderr",
          "text": [
            "\r 61%|██████▏   | 184/300 [2:22:10<1:29:49, 46.46s/it]"
          ]
        },
        {
          "output_type": "stream",
          "name": "stdout",
          "text": [
            "Training Loss : 1.1637774731445312, Testing Loss : 1.309407077407837, Training Accuracy : 0.57126, Testing Accuracy : 0.5529\n"
          ]
        },
        {
          "output_type": "stream",
          "name": "stderr",
          "text": [
            "\r 62%|██████▏   | 185/300 [2:22:57<1:29:21, 46.62s/it]"
          ]
        },
        {
          "output_type": "stream",
          "name": "stdout",
          "text": [
            "Training Loss : 1.2185616667175292, Testing Loss : 1.4033809713363647, Training Accuracy : 0.55256, Testing Accuracy : 0.4658\n"
          ]
        },
        {
          "output_type": "stream",
          "name": "stderr",
          "text": [
            "\r 62%|██████▏   | 186/300 [2:23:44<1:28:23, 46.53s/it]"
          ]
        },
        {
          "output_type": "stream",
          "name": "stdout",
          "text": [
            "Training Loss : 1.2557131307983398, Testing Loss : 1.4297142709732056, Training Accuracy : 0.54728, Testing Accuracy : 0.4911\n"
          ]
        },
        {
          "output_type": "stream",
          "name": "stderr",
          "text": [
            "\r 62%|██████▏   | 187/300 [2:24:30<1:27:26, 46.43s/it]"
          ]
        },
        {
          "output_type": "stream",
          "name": "stdout",
          "text": [
            "Training Loss : 1.2490094786071777, Testing Loss : 1.3836546380996704, Training Accuracy : 0.55094, Testing Accuracy : 0.5319\n"
          ]
        },
        {
          "output_type": "stream",
          "name": "stderr",
          "text": [
            "\r 63%|██████▎   | 188/300 [2:25:16<1:26:37, 46.41s/it]"
          ]
        },
        {
          "output_type": "stream",
          "name": "stdout",
          "text": [
            "Training Loss : 1.2487762370300293, Testing Loss : 1.5533316987991332, Training Accuracy : 0.5541, Testing Accuracy : 0.4909\n"
          ]
        },
        {
          "output_type": "stream",
          "name": "stderr",
          "text": [
            "\r 63%|██████▎   | 189/300 [2:26:03<1:26:10, 46.58s/it]"
          ]
        },
        {
          "output_type": "stream",
          "name": "stdout",
          "text": [
            "Training Loss : 1.1614000772094726, Testing Loss : 1.3486371580123901, Training Accuracy : 0.5693, Testing Accuracy : 0.5517\n"
          ]
        },
        {
          "output_type": "stream",
          "name": "stderr",
          "text": [
            "\r 63%|██████▎   | 190/300 [2:26:50<1:25:19, 46.54s/it]"
          ]
        },
        {
          "output_type": "stream",
          "name": "stdout",
          "text": [
            "Training Loss : 1.2309351010131835, Testing Loss : 1.2197120071411134, Training Accuracy : 0.5508, Testing Accuracy : 0.5446\n"
          ]
        },
        {
          "output_type": "stream",
          "name": "stderr",
          "text": [
            "\r 64%|██████▎   | 191/300 [2:27:36<1:24:29, 46.51s/it]"
          ]
        },
        {
          "output_type": "stream",
          "name": "stdout",
          "text": [
            "Training Loss : 1.1388115046691893, Testing Loss : 1.1995554327011109, Training Accuracy : 0.58518, Testing Accuracy : 0.5975\n"
          ]
        },
        {
          "output_type": "stream",
          "name": "stderr",
          "text": [
            "\r 64%|██████▍   | 192/300 [2:28:22<1:23:36, 46.45s/it]"
          ]
        },
        {
          "output_type": "stream",
          "name": "stdout",
          "text": [
            "Training Loss : 1.1174463914489745, Testing Loss : 1.1919918603897095, Training Accuracy : 0.5953, Testing Accuracy : 0.5669\n"
          ]
        },
        {
          "output_type": "stream",
          "name": "stderr",
          "text": [
            "\r 64%|██████▍   | 193/300 [2:29:09<1:23:08, 46.62s/it]"
          ]
        },
        {
          "output_type": "stream",
          "name": "stdout",
          "text": [
            "Training Loss : 1.093960404663086, Testing Loss : 1.182936365699768, Training Accuracy : 0.60648, Testing Accuracy : 0.5921\n"
          ]
        },
        {
          "output_type": "stream",
          "name": "stderr",
          "text": [
            "\r 65%|██████▍   | 194/300 [2:29:56<1:22:12, 46.54s/it]"
          ]
        },
        {
          "output_type": "stream",
          "name": "stdout",
          "text": [
            "Training Loss : 1.1302797065734864, Testing Loss : 1.2684343627929688, Training Accuracy : 0.59276, Testing Accuracy : 0.5788\n"
          ]
        },
        {
          "output_type": "stream",
          "name": "stderr",
          "text": [
            "\r 65%|██████▌   | 195/300 [2:30:42<1:21:22, 46.50s/it]"
          ]
        },
        {
          "output_type": "stream",
          "name": "stdout",
          "text": [
            "Training Loss : 1.045872774658203, Testing Loss : 1.052156022834778, Training Accuracy : 0.62252, Testing Accuracy : 0.6327\n"
          ]
        },
        {
          "output_type": "stream",
          "name": "stderr",
          "text": [
            "\r 65%|██████▌   | 196/300 [2:31:28<1:20:29, 46.44s/it]"
          ]
        },
        {
          "output_type": "stream",
          "name": "stdout",
          "text": [
            "Training Loss : 1.012924275970459, Testing Loss : 1.1633647150039672, Training Accuracy : 0.634, Testing Accuracy : 0.6102\n"
          ]
        },
        {
          "output_type": "stream",
          "name": "stderr",
          "text": [
            "\r 66%|██████▌   | 197/300 [2:32:16<1:20:08, 46.68s/it]"
          ]
        },
        {
          "output_type": "stream",
          "name": "stdout",
          "text": [
            "Training Loss : 1.057829033203125, Testing Loss : 1.3379792959213257, Training Accuracy : 0.6156, Testing Accuracy : 0.5376\n"
          ]
        },
        {
          "output_type": "stream",
          "name": "stderr",
          "text": [
            "\r 66%|██████▌   | 198/300 [2:33:02<1:19:11, 46.59s/it]"
          ]
        },
        {
          "output_type": "stream",
          "name": "stdout",
          "text": [
            "Training Loss : 1.1783662550354004, Testing Loss : 1.3612395858764648, Training Accuracy : 0.57774, Testing Accuracy : 0.5504\n"
          ]
        },
        {
          "output_type": "stream",
          "name": "stderr",
          "text": [
            "\r 66%|██████▋   | 199/300 [2:33:48<1:18:10, 46.44s/it]"
          ]
        },
        {
          "output_type": "stream",
          "name": "stdout",
          "text": [
            "Training Loss : 1.2255348820495606, Testing Loss : 1.2468140872955322, Training Accuracy : 0.5701, Testing Accuracy : 0.5626\n"
          ]
        },
        {
          "output_type": "stream",
          "name": "stderr",
          "text": [
            "\r 67%|██████▋   | 200/300 [2:34:34<1:17:20, 46.41s/it]"
          ]
        },
        {
          "output_type": "stream",
          "name": "stdout",
          "text": [
            "Training Loss : 1.0634447135925293, Testing Loss : 1.1565569162368774, Training Accuracy : 0.614, Testing Accuracy : 0.6089\n"
          ]
        },
        {
          "output_type": "stream",
          "name": "stderr",
          "text": [
            "\r 67%|██████▋   | 201/300 [2:35:21<1:16:45, 46.52s/it]"
          ]
        },
        {
          "output_type": "stream",
          "name": "stdout",
          "text": [
            "Training Loss : 0.9895973623657227, Testing Loss : 1.1115184923171997, Training Accuracy : 0.64474, Testing Accuracy : 0.6105\n"
          ]
        },
        {
          "output_type": "stream",
          "name": "stderr",
          "text": [
            "\r 67%|██████▋   | 202/300 [2:36:07<1:15:50, 46.43s/it]"
          ]
        },
        {
          "output_type": "stream",
          "name": "stdout",
          "text": [
            "Training Loss : 0.924110852355957, Testing Loss : 1.0117931688308717, Training Accuracy : 0.66592, Testing Accuracy : 0.6474\n"
          ]
        },
        {
          "output_type": "stream",
          "name": "stderr",
          "text": [
            "\r 68%|██████▊   | 203/300 [2:36:54<1:15:00, 46.40s/it]"
          ]
        },
        {
          "output_type": "stream",
          "name": "stdout",
          "text": [
            "Training Loss : 0.9496469079589843, Testing Loss : 1.1170019979476928, Training Accuracy : 0.66208, Testing Accuracy : 0.6127\n"
          ]
        },
        {
          "output_type": "stream",
          "name": "stderr",
          "text": [
            "\r 68%|██████▊   | 204/300 [2:37:40<1:14:13, 46.39s/it]"
          ]
        },
        {
          "output_type": "stream",
          "name": "stdout",
          "text": [
            "Training Loss : 0.9378669287109375, Testing Loss : 1.1851436811447142, Training Accuracy : 0.66676, Testing Accuracy : 0.6121\n"
          ]
        },
        {
          "output_type": "stream",
          "name": "stderr",
          "text": [
            "\r 68%|██████▊   | 205/300 [2:38:27<1:13:34, 46.47s/it]"
          ]
        },
        {
          "output_type": "stream",
          "name": "stdout",
          "text": [
            "Training Loss : 0.9615594470214843, Testing Loss : 1.200975187110901, Training Accuracy : 0.66154, Testing Accuracy : 0.6167\n"
          ]
        },
        {
          "output_type": "stream",
          "name": "stderr",
          "text": [
            "\r 69%|██████▊   | 206/300 [2:39:14<1:13:00, 46.60s/it]"
          ]
        },
        {
          "output_type": "stream",
          "name": "stdout",
          "text": [
            "Training Loss : 0.9444794158935547, Testing Loss : 1.1425012819290161, Training Accuracy : 0.66412, Testing Accuracy : 0.6224\n"
          ]
        },
        {
          "output_type": "stream",
          "name": "stderr",
          "text": [
            "\r 69%|██████▉   | 207/300 [2:40:00<1:12:06, 46.52s/it]"
          ]
        },
        {
          "output_type": "stream",
          "name": "stdout",
          "text": [
            "Training Loss : 1.097102904663086, Testing Loss : 1.4485205661773681, Training Accuracy : 0.6248, Testing Accuracy : 0.5305\n"
          ]
        },
        {
          "output_type": "stream",
          "name": "stderr",
          "text": [
            "\r 69%|██████▉   | 208/300 [2:40:47<1:11:19, 46.51s/it]"
          ]
        },
        {
          "output_type": "stream",
          "name": "stdout",
          "text": [
            "Training Loss : 1.0338615875244141, Testing Loss : 1.055366576385498, Training Accuracy : 0.63824, Testing Accuracy : 0.6455\n"
          ]
        },
        {
          "output_type": "stream",
          "name": "stderr",
          "text": [
            "\r 70%|██████▉   | 209/300 [2:41:33<1:10:28, 46.46s/it]"
          ]
        },
        {
          "output_type": "stream",
          "name": "stdout",
          "text": [
            "Training Loss : 0.9314657850646972, Testing Loss : 1.0132874897003175, Training Accuracy : 0.67012, Testing Accuracy : 0.6536\n"
          ]
        },
        {
          "output_type": "stream",
          "name": "stderr",
          "text": [
            "\r 70%|███████   | 210/300 [2:42:20<1:09:59, 46.66s/it]"
          ]
        },
        {
          "output_type": "stream",
          "name": "stdout",
          "text": [
            "Training Loss : 0.9236774137878419, Testing Loss : 1.1467276343345643, Training Accuracy : 0.67958, Testing Accuracy : 0.638\n"
          ]
        },
        {
          "output_type": "stream",
          "name": "stderr",
          "text": [
            "\r 70%|███████   | 211/300 [2:43:07<1:09:17, 46.71s/it]"
          ]
        },
        {
          "output_type": "stream",
          "name": "stdout",
          "text": [
            "Training Loss : 0.9181643330383301, Testing Loss : 1.1151431814193726, Training Accuracy : 0.6864, Testing Accuracy : 0.6434\n"
          ]
        },
        {
          "output_type": "stream",
          "name": "stderr",
          "text": [
            "\r 71%|███████   | 212/300 [2:43:54<1:08:36, 46.78s/it]"
          ]
        },
        {
          "output_type": "stream",
          "name": "stdout",
          "text": [
            "Training Loss : 0.8774496153259277, Testing Loss : 0.9641058067321777, Training Accuracy : 0.69598, Testing Accuracy : 0.684\n"
          ]
        },
        {
          "output_type": "stream",
          "name": "stderr",
          "text": [
            "\r 71%|███████   | 213/300 [2:44:41<1:07:50, 46.79s/it]"
          ]
        },
        {
          "output_type": "stream",
          "name": "stdout",
          "text": [
            "Training Loss : 0.8383800064086914, Testing Loss : 1.005420876121521, Training Accuracy : 0.70492, Testing Accuracy : 0.669\n"
          ]
        },
        {
          "output_type": "stream",
          "name": "stderr",
          "text": [
            "\r 71%|███████▏  | 214/300 [2:45:28<1:07:28, 47.08s/it]"
          ]
        },
        {
          "output_type": "stream",
          "name": "stdout",
          "text": [
            "Training Loss : 0.8358926477813721, Testing Loss : 0.9226060176849366, Training Accuracy : 0.70544, Testing Accuracy : 0.6992\n"
          ]
        },
        {
          "output_type": "stream",
          "name": "stderr",
          "text": [
            "\r 72%|███████▏  | 215/300 [2:46:14<1:06:16, 46.78s/it]"
          ]
        },
        {
          "output_type": "stream",
          "name": "stdout",
          "text": [
            "Training Loss : 0.8412318165588379, Testing Loss : 0.9544064296722412, Training Accuracy : 0.70554, Testing Accuracy : 0.674\n"
          ]
        },
        {
          "output_type": "stream",
          "name": "stderr",
          "text": [
            "\r 72%|███████▏  | 216/300 [2:47:01<1:05:18, 46.65s/it]"
          ]
        },
        {
          "output_type": "stream",
          "name": "stdout",
          "text": [
            "Training Loss : 0.8266412983703614, Testing Loss : 1.045013306236267, Training Accuracy : 0.71472, Testing Accuracy : 0.6703\n"
          ]
        },
        {
          "output_type": "stream",
          "name": "stderr",
          "text": [
            "\r 72%|███████▏  | 217/300 [2:47:47<1:04:24, 46.57s/it]"
          ]
        },
        {
          "output_type": "stream",
          "name": "stdout",
          "text": [
            "Training Loss : 0.8427791905212403, Testing Loss : 0.9524349092483521, Training Accuracy : 0.71144, Testing Accuracy : 0.6901\n"
          ]
        },
        {
          "output_type": "stream",
          "name": "stderr",
          "text": [
            "\r 73%|███████▎  | 218/300 [2:48:34<1:03:44, 46.64s/it]"
          ]
        },
        {
          "output_type": "stream",
          "name": "stdout",
          "text": [
            "Training Loss : 0.8699552403259277, Testing Loss : 1.0248586322784423, Training Accuracy : 0.69602, Testing Accuracy : 0.6681\n"
          ]
        },
        {
          "output_type": "stream",
          "name": "stderr",
          "text": [
            "\r 73%|███████▎  | 219/300 [2:49:20<1:02:49, 46.54s/it]"
          ]
        },
        {
          "output_type": "stream",
          "name": "stdout",
          "text": [
            "Training Loss : 0.8469906440734863, Testing Loss : 1.005286167049408, Training Accuracy : 0.71118, Testing Accuracy : 0.6739\n"
          ]
        },
        {
          "output_type": "stream",
          "name": "stderr",
          "text": [
            "\r 73%|███████▎  | 220/300 [2:50:07<1:01:59, 46.50s/it]"
          ]
        },
        {
          "output_type": "stream",
          "name": "stdout",
          "text": [
            "Training Loss : 0.7993740242004395, Testing Loss : 0.9832907104492188, Training Accuracy : 0.7264, Testing Accuracy : 0.6941\n"
          ]
        },
        {
          "output_type": "stream",
          "name": "stderr",
          "text": [
            "\r 74%|███████▎  | 221/300 [2:50:53<1:01:10, 46.46s/it]"
          ]
        },
        {
          "output_type": "stream",
          "name": "stdout",
          "text": [
            "Training Loss : 0.7975865245819092, Testing Loss : 1.0473934988021851, Training Accuracy : 0.73096, Testing Accuracy : 0.6533\n"
          ]
        },
        {
          "output_type": "stream",
          "name": "stderr",
          "text": [
            "\r 74%|███████▍  | 222/300 [2:51:39<1:00:22, 46.45s/it]"
          ]
        },
        {
          "output_type": "stream",
          "name": "stdout",
          "text": [
            "Training Loss : 0.7647266156768798, Testing Loss : 0.9187260871887207, Training Accuracy : 0.7397, Testing Accuracy : 0.7059\n"
          ]
        },
        {
          "output_type": "stream",
          "name": "stderr",
          "text": [
            "\r 74%|███████▍  | 223/300 [2:52:26<59:47, 46.58s/it]  "
          ]
        },
        {
          "output_type": "stream",
          "name": "stdout",
          "text": [
            "Training Loss : 0.7625877318572998, Testing Loss : 1.7051932369232177, Training Accuracy : 0.74114, Testing Accuracy : 0.557\n"
          ]
        },
        {
          "output_type": "stream",
          "name": "stderr",
          "text": [
            "\r 75%|███████▍  | 224/300 [2:53:13<58:56, 46.53s/it]"
          ]
        },
        {
          "output_type": "stream",
          "name": "stdout",
          "text": [
            "Training Loss : 0.708670571975708, Testing Loss : 0.8776272359848023, Training Accuracy : 0.75574, Testing Accuracy : 0.723\n"
          ]
        },
        {
          "output_type": "stream",
          "name": "stderr",
          "text": [
            "\r 75%|███████▌  | 225/300 [2:53:59<58:07, 46.50s/it]"
          ]
        },
        {
          "output_type": "stream",
          "name": "stdout",
          "text": [
            "Training Loss : 0.7050557465362549, Testing Loss : 0.8822785313606262, Training Accuracy : 0.75666, Testing Accuracy : 0.7216\n"
          ]
        },
        {
          "output_type": "stream",
          "name": "stderr",
          "text": [
            "\r 75%|███████▌  | 226/300 [2:54:46<57:24, 46.54s/it]"
          ]
        },
        {
          "output_type": "stream",
          "name": "stdout",
          "text": [
            "Training Loss : 0.6844399523162842, Testing Loss : 0.8293943875312805, Training Accuracy : 0.76518, Testing Accuracy : 0.7307\n"
          ]
        },
        {
          "output_type": "stream",
          "name": "stderr",
          "text": [
            "\r 76%|███████▌  | 227/300 [2:55:33<56:45, 46.65s/it]"
          ]
        },
        {
          "output_type": "stream",
          "name": "stdout",
          "text": [
            "Training Loss : 0.7148718627166748, Testing Loss : 0.8738937358856201, Training Accuracy : 0.7601, Testing Accuracy : 0.7223\n"
          ]
        },
        {
          "output_type": "stream",
          "name": "stderr",
          "text": [
            "\r 76%|███████▌  | 228/300 [2:56:19<55:56, 46.62s/it]"
          ]
        },
        {
          "output_type": "stream",
          "name": "stdout",
          "text": [
            "Training Loss : 0.6798590670776368, Testing Loss : 0.816814813709259, Training Accuracy : 0.76832, Testing Accuracy : 0.7279\n"
          ]
        },
        {
          "output_type": "stream",
          "name": "stderr",
          "text": [
            "\r 76%|███████▋  | 229/300 [2:57:06<55:05, 46.56s/it]"
          ]
        },
        {
          "output_type": "stream",
          "name": "stdout",
          "text": [
            "Training Loss : 0.7198814800262451, Testing Loss : 0.9030713590621948, Training Accuracy : 0.75566, Testing Accuracy : 0.7268\n"
          ]
        },
        {
          "output_type": "stream",
          "name": "stderr",
          "text": [
            "\r 77%|███████▋  | 230/300 [2:57:52<54:18, 46.56s/it]"
          ]
        },
        {
          "output_type": "stream",
          "name": "stdout",
          "text": [
            "Training Loss : 0.6879314080047607, Testing Loss : 0.8818693157196045, Training Accuracy : 0.7711, Testing Accuracy : 0.7422\n"
          ]
        },
        {
          "output_type": "stream",
          "name": "stderr",
          "text": [
            "\r 77%|███████▋  | 231/300 [2:58:40<54:02, 46.99s/it]"
          ]
        },
        {
          "output_type": "stream",
          "name": "stdout",
          "text": [
            "Training Loss : 0.6715609255218505, Testing Loss : 0.8960867303848267, Training Accuracy : 0.77164, Testing Accuracy : 0.7206\n"
          ]
        },
        {
          "output_type": "stream",
          "name": "stderr",
          "text": [
            "\r 77%|███████▋  | 232/300 [2:59:27<53:15, 46.99s/it]"
          ]
        },
        {
          "output_type": "stream",
          "name": "stdout",
          "text": [
            "Training Loss : 0.7209936688995361, Testing Loss : 1.1267076086044312, Training Accuracy : 0.75606, Testing Accuracy : 0.6613\n"
          ]
        },
        {
          "output_type": "stream",
          "name": "stderr",
          "text": [
            "\r 78%|███████▊  | 233/300 [3:00:13<52:10, 46.73s/it]"
          ]
        },
        {
          "output_type": "stream",
          "name": "stdout",
          "text": [
            "Training Loss : 0.7750879878997803, Testing Loss : 1.1176384927749634, Training Accuracy : 0.74894, Testing Accuracy : 0.6914\n"
          ]
        },
        {
          "output_type": "stream",
          "name": "stderr",
          "text": [
            "\r 78%|███████▊  | 234/300 [3:01:00<51:22, 46.70s/it]"
          ]
        },
        {
          "output_type": "stream",
          "name": "stdout",
          "text": [
            "Training Loss : 0.7032742570495606, Testing Loss : 0.8249660459518433, Training Accuracy : 0.77116, Testing Accuracy : 0.7331\n"
          ]
        },
        {
          "output_type": "stream",
          "name": "stderr",
          "text": [
            "\r 78%|███████▊  | 235/300 [3:01:46<50:30, 46.62s/it]"
          ]
        },
        {
          "output_type": "stream",
          "name": "stdout",
          "text": [
            "Training Loss : 0.6728800852966309, Testing Loss : 0.8058161557197571, Training Accuracy : 0.77772, Testing Accuracy : 0.749\n"
          ]
        },
        {
          "output_type": "stream",
          "name": "stderr",
          "text": [
            "\r 79%|███████▊  | 236/300 [3:02:34<49:52, 46.76s/it]"
          ]
        },
        {
          "output_type": "stream",
          "name": "stdout",
          "text": [
            "Training Loss : 0.6219880990600586, Testing Loss : 0.7768428190231323, Training Accuracy : 0.79026, Testing Accuracy : 0.7572\n"
          ]
        },
        {
          "output_type": "stream",
          "name": "stderr",
          "text": [
            "\r 79%|███████▉  | 237/300 [3:03:20<49:00, 46.67s/it]"
          ]
        },
        {
          "output_type": "stream",
          "name": "stdout",
          "text": [
            "Training Loss : 0.6114837109375, Testing Loss : 0.7684577860832215, Training Accuracy : 0.79268, Testing Accuracy : 0.7507\n"
          ]
        },
        {
          "output_type": "stream",
          "name": "stderr",
          "text": [
            "\r 79%|███████▉  | 238/300 [3:04:06<48:08, 46.60s/it]"
          ]
        },
        {
          "output_type": "stream",
          "name": "stdout",
          "text": [
            "Training Loss : 0.6646847659301758, Testing Loss : 0.8865117267608642, Training Accuracy : 0.77174, Testing Accuracy : 0.726\n"
          ]
        },
        {
          "output_type": "stream",
          "name": "stderr",
          "text": [
            "\r 80%|███████▉  | 239/300 [3:04:53<47:20, 46.57s/it]"
          ]
        },
        {
          "output_type": "stream",
          "name": "stdout",
          "text": [
            "Training Loss : 0.6181218372344971, Testing Loss : 0.787237707233429, Training Accuracy : 0.792, Testing Accuracy : 0.7566\n"
          ]
        },
        {
          "output_type": "stream",
          "name": "stderr",
          "text": [
            "\r 80%|████████  | 240/300 [3:05:40<46:43, 46.73s/it]"
          ]
        },
        {
          "output_type": "stream",
          "name": "stdout",
          "text": [
            "Training Loss : 0.5934511880493164, Testing Loss : 0.8124620309829712, Training Accuracy : 0.80046, Testing Accuracy : 0.746\n"
          ]
        },
        {
          "output_type": "stream",
          "name": "stderr",
          "text": [
            "\r 80%|████████  | 241/300 [3:06:26<45:49, 46.61s/it]"
          ]
        },
        {
          "output_type": "stream",
          "name": "stdout",
          "text": [
            "Training Loss : 0.6014095643615722, Testing Loss : 0.7681996264457702, Training Accuracy : 0.79612, Testing Accuracy : 0.7526\n"
          ]
        },
        {
          "output_type": "stream",
          "name": "stderr",
          "text": [
            "\r 81%|████████  | 242/300 [3:07:13<45:02, 46.59s/it]"
          ]
        },
        {
          "output_type": "stream",
          "name": "stdout",
          "text": [
            "Training Loss : 0.6291393272399902, Testing Loss : 0.91523290309906, Training Accuracy : 0.78452, Testing Accuracy : 0.7263\n"
          ]
        },
        {
          "output_type": "stream",
          "name": "stderr",
          "text": [
            "\r 81%|████████  | 243/300 [3:07:59<44:14, 46.57s/it]"
          ]
        },
        {
          "output_type": "stream",
          "name": "stdout",
          "text": [
            "Training Loss : 0.6182567330169678, Testing Loss : 0.7899276537895202, Training Accuracy : 0.79128, Testing Accuracy : 0.7559\n"
          ]
        },
        {
          "output_type": "stream",
          "name": "stderr",
          "text": [
            "\r 81%|████████▏ | 244/300 [3:08:46<43:30, 46.61s/it]"
          ]
        },
        {
          "output_type": "stream",
          "name": "stdout",
          "text": [
            "Training Loss : 0.6417371252441406, Testing Loss : 0.7993063423156739, Training Accuracy : 0.78588, Testing Accuracy : 0.7506\n"
          ]
        },
        {
          "output_type": "stream",
          "name": "stderr",
          "text": [
            "\r 82%|████████▏ | 245/300 [3:09:34<42:58, 46.88s/it]"
          ]
        },
        {
          "output_type": "stream",
          "name": "stdout",
          "text": [
            "Training Loss : 0.5857157305908203, Testing Loss : 0.7730609993934632, Training Accuracy : 0.80486, Testing Accuracy : 0.7558\n"
          ]
        },
        {
          "output_type": "stream",
          "name": "stderr",
          "text": [
            "\r 82%|████████▏ | 246/300 [3:10:20<41:57, 46.61s/it]"
          ]
        },
        {
          "output_type": "stream",
          "name": "stdout",
          "text": [
            "Training Loss : 0.5819203666687012, Testing Loss : 0.7302136714935302, Training Accuracy : 0.80528, Testing Accuracy : 0.7774\n"
          ]
        },
        {
          "output_type": "stream",
          "name": "stderr",
          "text": [
            "\r 82%|████████▏ | 247/300 [3:11:06<41:06, 46.54s/it]"
          ]
        },
        {
          "output_type": "stream",
          "name": "stdout",
          "text": [
            "Training Loss : 0.5635817900085449, Testing Loss : 0.7714267340660095, Training Accuracy : 0.81116, Testing Accuracy : 0.7707\n"
          ]
        },
        {
          "output_type": "stream",
          "name": "stderr",
          "text": [
            "\r 83%|████████▎ | 248/300 [3:11:52<40:18, 46.50s/it]"
          ]
        },
        {
          "output_type": "stream",
          "name": "stdout",
          "text": [
            "Training Loss : 0.5474106172943115, Testing Loss : 0.6966124147415161, Training Accuracy : 0.81468, Testing Accuracy : 0.779\n"
          ]
        },
        {
          "output_type": "stream",
          "name": "stderr",
          "text": [
            "\r 83%|████████▎ | 249/300 [3:12:39<39:39, 46.65s/it]"
          ]
        },
        {
          "output_type": "stream",
          "name": "stdout",
          "text": [
            "Training Loss : 0.5373650800323486, Testing Loss : 0.7266610404968262, Training Accuracy : 0.81902, Testing Accuracy : 0.7742\n"
          ]
        },
        {
          "output_type": "stream",
          "name": "stderr",
          "text": [
            "\r 83%|████████▎ | 250/300 [3:13:26<38:49, 46.59s/it]"
          ]
        },
        {
          "output_type": "stream",
          "name": "stdout",
          "text": [
            "Training Loss : 0.5242719246673584, Testing Loss : 0.7347774795532227, Training Accuracy : 0.82304, Testing Accuracy : 0.7727\n"
          ]
        },
        {
          "output_type": "stream",
          "name": "stderr",
          "text": [
            "\r 84%|████████▎ | 251/300 [3:14:12<38:01, 46.55s/it]"
          ]
        },
        {
          "output_type": "stream",
          "name": "stdout",
          "text": [
            "Training Loss : 0.5540455419158935, Testing Loss : 0.7788897212028504, Training Accuracy : 0.81446, Testing Accuracy : 0.768\n"
          ]
        },
        {
          "output_type": "stream",
          "name": "stderr",
          "text": [
            "\r 84%|████████▍ | 252/300 [3:14:59<37:14, 46.55s/it]"
          ]
        },
        {
          "output_type": "stream",
          "name": "stdout",
          "text": [
            "Training Loss : 0.537318317489624, Testing Loss : 0.7159722229003906, Training Accuracy : 0.81978, Testing Accuracy : 0.7734\n"
          ]
        },
        {
          "output_type": "stream",
          "name": "stderr",
          "text": [
            "\r 84%|████████▍ | 253/300 [3:15:45<36:29, 46.59s/it]"
          ]
        },
        {
          "output_type": "stream",
          "name": "stdout",
          "text": [
            "Training Loss : 0.540732771987915, Testing Loss : 0.7459339425086975, Training Accuracy : 0.81938, Testing Accuracy : 0.7716\n"
          ]
        },
        {
          "output_type": "stream",
          "name": "stderr",
          "text": [
            "\r 85%|████████▍ | 254/300 [3:16:33<35:56, 46.88s/it]"
          ]
        },
        {
          "output_type": "stream",
          "name": "stdout",
          "text": [
            "Training Loss : 0.5642972286987304, Testing Loss : 0.8074060546875, Training Accuracy : 0.8121, Testing Accuracy : 0.7587\n"
          ]
        },
        {
          "output_type": "stream",
          "name": "stderr",
          "text": [
            "\r 85%|████████▌ | 255/300 [3:17:20<35:07, 46.84s/it]"
          ]
        },
        {
          "output_type": "stream",
          "name": "stdout",
          "text": [
            "Training Loss : 0.5318584044647217, Testing Loss : 0.729869671535492, Training Accuracy : 0.8214, Testing Accuracy : 0.775\n"
          ]
        },
        {
          "output_type": "stream",
          "name": "stderr",
          "text": [
            "\r 85%|████████▌ | 256/300 [3:18:06<34:17, 46.76s/it]"
          ]
        },
        {
          "output_type": "stream",
          "name": "stdout",
          "text": [
            "Training Loss : 0.5107088471984863, Testing Loss : 0.6857511414527893, Training Accuracy : 0.8268, Testing Accuracy : 0.7867\n"
          ]
        },
        {
          "output_type": "stream",
          "name": "stderr",
          "text": [
            "\r 86%|████████▌ | 257/300 [3:18:53<33:30, 46.75s/it]"
          ]
        },
        {
          "output_type": "stream",
          "name": "stdout",
          "text": [
            "Training Loss : 0.503498893661499, Testing Loss : 0.7070222690582275, Training Accuracy : 0.8299, Testing Accuracy : 0.7834\n"
          ]
        },
        {
          "output_type": "stream",
          "name": "stderr",
          "text": [
            "\r 86%|████████▌ | 258/300 [3:19:41<32:55, 47.04s/it]"
          ]
        },
        {
          "output_type": "stream",
          "name": "stdout",
          "text": [
            "Training Loss : 0.49584955394744873, Testing Loss : 0.6623185824394227, Training Accuracy : 0.83194, Testing Accuracy : 0.788\n"
          ]
        },
        {
          "output_type": "stream",
          "name": "stderr",
          "text": [
            "\r 86%|████████▋ | 259/300 [3:20:27<31:56, 46.74s/it]"
          ]
        },
        {
          "output_type": "stream",
          "name": "stdout",
          "text": [
            "Training Loss : 0.48756567489624025, Testing Loss : 0.7139042365074157, Training Accuracy : 0.83532, Testing Accuracy : 0.7881\n"
          ]
        },
        {
          "output_type": "stream",
          "name": "stderr",
          "text": [
            "\r 87%|████████▋ | 260/300 [3:21:13<31:06, 46.67s/it]"
          ]
        },
        {
          "output_type": "stream",
          "name": "stdout",
          "text": [
            "Training Loss : 0.49144138664245607, Testing Loss : 0.7167885787010193, Training Accuracy : 0.8341, Testing Accuracy : 0.7754\n"
          ]
        },
        {
          "output_type": "stream",
          "name": "stderr",
          "text": [
            "\r 87%|████████▋ | 261/300 [3:22:00<30:21, 46.70s/it]"
          ]
        },
        {
          "output_type": "stream",
          "name": "stdout",
          "text": [
            "Training Loss : 0.5077081579589844, Testing Loss : 0.7482330881118774, Training Accuracy : 0.82784, Testing Accuracy : 0.7765\n"
          ]
        },
        {
          "output_type": "stream",
          "name": "stderr",
          "text": [
            "\r 87%|████████▋ | 262/300 [3:22:47<29:40, 46.85s/it]"
          ]
        },
        {
          "output_type": "stream",
          "name": "stdout",
          "text": [
            "Training Loss : 0.4928976401138306, Testing Loss : 0.8235817643165588, Training Accuracy : 0.83466, Testing Accuracy : 0.7576\n"
          ]
        },
        {
          "output_type": "stream",
          "name": "stderr",
          "text": [
            "\r 88%|████████▊ | 263/300 [3:23:34<28:50, 46.78s/it]"
          ]
        },
        {
          "output_type": "stream",
          "name": "stdout",
          "text": [
            "Training Loss : 0.5012875973892212, Testing Loss : 0.8177811217308044, Training Accuracy : 0.83184, Testing Accuracy : 0.7601\n"
          ]
        },
        {
          "output_type": "stream",
          "name": "stderr",
          "text": [
            "\r 88%|████████▊ | 264/300 [3:24:20<28:01, 46.70s/it]"
          ]
        },
        {
          "output_type": "stream",
          "name": "stdout",
          "text": [
            "Training Loss : 0.5290162465667725, Testing Loss : 0.7087346555709839, Training Accuracy : 0.82148, Testing Accuracy : 0.7816\n"
          ]
        },
        {
          "output_type": "stream",
          "name": "stderr",
          "text": [
            "\r 88%|████████▊ | 265/300 [3:25:07<27:11, 46.63s/it]"
          ]
        },
        {
          "output_type": "stream",
          "name": "stdout",
          "text": [
            "Training Loss : 0.48019946979522704, Testing Loss : 0.6841588844299317, Training Accuracy : 0.83852, Testing Accuracy : 0.7949\n"
          ]
        },
        {
          "output_type": "stream",
          "name": "stderr",
          "text": [
            "\r 89%|████████▊ | 266/300 [3:25:53<26:23, 46.57s/it]"
          ]
        },
        {
          "output_type": "stream",
          "name": "stdout",
          "text": [
            "Training Loss : 0.47044848831176755, Testing Loss : 0.6663478693008423, Training Accuracy : 0.841, Testing Accuracy : 0.791\n"
          ]
        },
        {
          "output_type": "stream",
          "name": "stderr",
          "text": [
            "\r 89%|████████▉ | 267/300 [3:26:40<25:41, 46.70s/it]"
          ]
        },
        {
          "output_type": "stream",
          "name": "stdout",
          "text": [
            "Training Loss : 0.4590330387115478, Testing Loss : 0.6735918583869934, Training Accuracy : 0.84576, Testing Accuracy : 0.7944\n"
          ]
        },
        {
          "output_type": "stream",
          "name": "stderr",
          "text": [
            "\r 89%|████████▉ | 268/300 [3:27:27<24:51, 46.60s/it]"
          ]
        },
        {
          "output_type": "stream",
          "name": "stdout",
          "text": [
            "Training Loss : 0.4536897539520264, Testing Loss : 0.6671771404266358, Training Accuracy : 0.84662, Testing Accuracy : 0.7943\n"
          ]
        },
        {
          "output_type": "stream",
          "name": "stderr",
          "text": [
            "\r 90%|████████▉ | 269/300 [3:28:13<24:04, 46.60s/it]"
          ]
        },
        {
          "output_type": "stream",
          "name": "stdout",
          "text": [
            "Training Loss : 0.45963715866088867, Testing Loss : 0.6787890656471253, Training Accuracy : 0.84452, Testing Accuracy : 0.7888\n"
          ]
        },
        {
          "output_type": "stream",
          "name": "stderr",
          "text": [
            "\r 90%|█████████ | 270/300 [3:29:00<23:21, 46.71s/it]"
          ]
        },
        {
          "output_type": "stream",
          "name": "stdout",
          "text": [
            "Training Loss : 0.44741804595947265, Testing Loss : 0.6686076108932495, Training Accuracy : 0.84712, Testing Accuracy : 0.7964\n"
          ]
        },
        {
          "output_type": "stream",
          "name": "stderr",
          "text": [
            "\r 90%|█████████ | 271/300 [3:29:48<22:43, 47.03s/it]"
          ]
        },
        {
          "output_type": "stream",
          "name": "stdout",
          "text": [
            "Training Loss : 0.4415747662734985, Testing Loss : 0.6641028247833252, Training Accuracy : 0.84976, Testing Accuracy : 0.7973\n"
          ]
        },
        {
          "output_type": "stream",
          "name": "stderr",
          "text": [
            "\r 91%|█████████ | 272/300 [3:30:34<21:46, 46.67s/it]"
          ]
        },
        {
          "output_type": "stream",
          "name": "stdout",
          "text": [
            "Training Loss : 0.4405272805786133, Testing Loss : 0.7335274158477784, Training Accuracy : 0.85028, Testing Accuracy : 0.7733\n"
          ]
        },
        {
          "output_type": "stream",
          "name": "stderr",
          "text": [
            "\r 91%|█████████ | 273/300 [3:31:21<21:00, 46.67s/it]"
          ]
        },
        {
          "output_type": "stream",
          "name": "stdout",
          "text": [
            "Training Loss : 0.44479529224395753, Testing Loss : 0.6401018718719482, Training Accuracy : 0.84954, Testing Accuracy : 0.8055\n"
          ]
        },
        {
          "output_type": "stream",
          "name": "stderr",
          "text": [
            "\r 91%|█████████▏| 274/300 [3:32:07<20:13, 46.67s/it]"
          ]
        },
        {
          "output_type": "stream",
          "name": "stdout",
          "text": [
            "Training Loss : 0.45173255027771, Testing Loss : 0.7498786956787109, Training Accuracy : 0.84712, Testing Accuracy : 0.7769\n"
          ]
        },
        {
          "output_type": "stream",
          "name": "stderr",
          "text": [
            "\r 92%|█████████▏| 275/300 [3:32:54<19:26, 46.65s/it]"
          ]
        },
        {
          "output_type": "stream",
          "name": "stdout",
          "text": [
            "Training Loss : 0.4347444361114502, Testing Loss : 0.6650291745185852, Training Accuracy : 0.8524, Testing Accuracy : 0.7986\n"
          ]
        },
        {
          "output_type": "stream",
          "name": "stderr",
          "text": [
            "\r 92%|█████████▏| 276/300 [3:33:41<18:44, 46.85s/it]"
          ]
        },
        {
          "output_type": "stream",
          "name": "stdout",
          "text": [
            "Training Loss : 0.43013694313049317, Testing Loss : 0.6944826413154602, Training Accuracy : 0.85394, Testing Accuracy : 0.7951\n"
          ]
        },
        {
          "output_type": "stream",
          "name": "stderr",
          "text": [
            "\r 92%|█████████▏| 277/300 [3:34:28<17:55, 46.76s/it]"
          ]
        },
        {
          "output_type": "stream",
          "name": "stdout",
          "text": [
            "Training Loss : 0.43895439540863035, Testing Loss : 0.6874322813987732, Training Accuracy : 0.85168, Testing Accuracy : 0.7933\n"
          ]
        },
        {
          "output_type": "stream",
          "name": "stderr",
          "text": [
            "\r 93%|█████████▎| 278/300 [3:35:15<17:11, 46.86s/it]"
          ]
        },
        {
          "output_type": "stream",
          "name": "stdout",
          "text": [
            "Training Loss : 0.43841567153930666, Testing Loss : 0.6670552428245544, Training Accuracy : 0.85016, Testing Accuracy : 0.79\n"
          ]
        },
        {
          "output_type": "stream",
          "name": "stderr",
          "text": [
            "\r 93%|█████████▎| 279/300 [3:36:02<16:24, 46.87s/it]"
          ]
        },
        {
          "output_type": "stream",
          "name": "stdout",
          "text": [
            "Training Loss : 0.4380503244781494, Testing Loss : 0.7048684462547302, Training Accuracy : 0.85142, Testing Accuracy : 0.7926\n"
          ]
        },
        {
          "output_type": "stream",
          "name": "stderr",
          "text": [
            "\r 93%|█████████▎| 280/300 [3:36:48<15:35, 46.78s/it]"
          ]
        },
        {
          "output_type": "stream",
          "name": "stdout",
          "text": [
            "Training Loss : 0.4250647534561157, Testing Loss : 0.6779487926483154, Training Accuracy : 0.85772, Testing Accuracy : 0.797\n"
          ]
        },
        {
          "output_type": "stream",
          "name": "stderr",
          "text": [
            "\r 94%|█████████▎| 281/300 [3:37:35<14:47, 46.69s/it]"
          ]
        },
        {
          "output_type": "stream",
          "name": "stdout",
          "text": [
            "Training Loss : 0.416025272064209, Testing Loss : 0.6664878603935241, Training Accuracy : 0.859, Testing Accuracy : 0.7981\n"
          ]
        },
        {
          "output_type": "stream",
          "name": "stderr",
          "text": [
            "\r 94%|█████████▍| 282/300 [3:38:21<13:59, 46.64s/it]"
          ]
        },
        {
          "output_type": "stream",
          "name": "stdout",
          "text": [
            "Training Loss : 0.40540902229309084, Testing Loss : 0.6840478339195252, Training Accuracy : 0.86082, Testing Accuracy : 0.7893\n"
          ]
        },
        {
          "output_type": "stream",
          "name": "stderr",
          "text": [
            "\r 94%|█████████▍| 283/300 [3:39:08<13:13, 46.66s/it]"
          ]
        },
        {
          "output_type": "stream",
          "name": "stdout",
          "text": [
            "Training Loss : 0.4099284422302246, Testing Loss : 0.6833495062828064, Training Accuracy : 0.85966, Testing Accuracy : 0.7994\n"
          ]
        },
        {
          "output_type": "stream",
          "name": "stderr",
          "text": [
            "\r 95%|█████████▍| 284/300 [3:39:54<12:25, 46.60s/it]"
          ]
        },
        {
          "output_type": "stream",
          "name": "stdout",
          "text": [
            "Training Loss : 0.4086419683837891, Testing Loss : 0.669646736907959, Training Accuracy : 0.8615, Testing Accuracy : 0.7973\n"
          ]
        },
        {
          "output_type": "stream",
          "name": "stderr",
          "text": [
            "\r 95%|█████████▌| 285/300 [3:40:41<11:40, 46.73s/it]"
          ]
        },
        {
          "output_type": "stream",
          "name": "stdout",
          "text": [
            "Training Loss : 0.40771355976104734, Testing Loss : 0.7223582571029663, Training Accuracy : 0.86188, Testing Accuracy : 0.7966\n"
          ]
        },
        {
          "output_type": "stream",
          "name": "stderr",
          "text": [
            "\r 95%|█████████▌| 286/300 [3:41:28<10:53, 46.65s/it]"
          ]
        },
        {
          "output_type": "stream",
          "name": "stdout",
          "text": [
            "Training Loss : 0.4182014543151856, Testing Loss : 0.7005585206985474, Training Accuracy : 0.86026, Testing Accuracy : 0.7989\n"
          ]
        },
        {
          "output_type": "stream",
          "name": "stderr",
          "text": [
            "\r 96%|█████████▌| 287/300 [3:42:14<10:03, 46.40s/it]"
          ]
        },
        {
          "output_type": "stream",
          "name": "stdout",
          "text": [
            "Training Loss : 0.41172079021453856, Testing Loss : 0.6628598760604858, Training Accuracy : 0.85988, Testing Accuracy : 0.7955\n"
          ]
        },
        {
          "output_type": "stream",
          "name": "stderr",
          "text": [
            "\r 96%|█████████▌| 288/300 [3:43:00<09:17, 46.45s/it]"
          ]
        },
        {
          "output_type": "stream",
          "name": "stdout",
          "text": [
            "Training Loss : 0.3990702923202515, Testing Loss : 0.6346234720230103, Training Accuracy : 0.8651, Testing Accuracy : 0.8058\n"
          ]
        },
        {
          "output_type": "stream",
          "name": "stderr",
          "text": [
            "\r 96%|█████████▋| 289/300 [3:43:47<08:33, 46.64s/it]"
          ]
        },
        {
          "output_type": "stream",
          "name": "stdout",
          "text": [
            "Training Loss : 0.3873971952438354, Testing Loss : 0.6751777978897094, Training Accuracy : 0.87042, Testing Accuracy : 0.801\n"
          ]
        },
        {
          "output_type": "stream",
          "name": "stderr",
          "text": [
            "\r 97%|█████████▋| 290/300 [3:44:34<07:45, 46.58s/it]"
          ]
        },
        {
          "output_type": "stream",
          "name": "stdout",
          "text": [
            "Training Loss : 0.39455306190490724, Testing Loss : 0.6451267185211181, Training Accuracy : 0.86676, Testing Accuracy : 0.8067\n"
          ]
        },
        {
          "output_type": "stream",
          "name": "stderr",
          "text": [
            "\r 97%|█████████▋| 291/300 [3:45:20<06:59, 46.57s/it]"
          ]
        },
        {
          "output_type": "stream",
          "name": "stdout",
          "text": [
            "Training Loss : 0.38829692474365235, Testing Loss : 0.6589450755119324, Training Accuracy : 0.86836, Testing Accuracy : 0.8052\n"
          ]
        },
        {
          "output_type": "stream",
          "name": "stderr",
          "text": [
            "\r 97%|█████████▋| 292/300 [3:46:07<06:12, 46.59s/it]"
          ]
        },
        {
          "output_type": "stream",
          "name": "stdout",
          "text": [
            "Training Loss : 0.3855899755477905, Testing Loss : 0.6519486959457398, Training Accuracy : 0.86892, Testing Accuracy : 0.8032\n"
          ]
        },
        {
          "output_type": "stream",
          "name": "stderr",
          "text": [
            "\r 98%|█████████▊| 293/300 [3:46:54<05:25, 46.57s/it]"
          ]
        },
        {
          "output_type": "stream",
          "name": "stdout",
          "text": [
            "Training Loss : 0.39612200183868407, Testing Loss : 0.710196961402893, Training Accuracy : 0.86564, Testing Accuracy : 0.787\n"
          ]
        },
        {
          "output_type": "stream",
          "name": "stderr",
          "text": [
            "\r 98%|█████████▊| 294/300 [3:47:41<04:40, 46.77s/it]"
          ]
        },
        {
          "output_type": "stream",
          "name": "stdout",
          "text": [
            "Training Loss : 0.40410503520965574, Testing Loss : 0.6814617095947265, Training Accuracy : 0.86304, Testing Accuracy : 0.7914\n"
          ]
        },
        {
          "output_type": "stream",
          "name": "stderr",
          "text": [
            "\r 98%|█████████▊| 295/300 [3:48:28<03:53, 46.79s/it]"
          ]
        },
        {
          "output_type": "stream",
          "name": "stdout",
          "text": [
            "Training Loss : 0.38269028827667234, Testing Loss : 0.6679260654449463, Training Accuracy : 0.87006, Testing Accuracy : 0.8024\n"
          ]
        },
        {
          "output_type": "stream",
          "name": "stderr",
          "text": [
            "\r 99%|█████████▊| 296/300 [3:49:14<03:06, 46.69s/it]"
          ]
        },
        {
          "output_type": "stream",
          "name": "stdout",
          "text": [
            "Training Loss : 0.3799379568862915, Testing Loss : 0.6452054317474365, Training Accuracy : 0.8704, Testing Accuracy : 0.7972\n"
          ]
        },
        {
          "output_type": "stream",
          "name": "stderr",
          "text": [
            "\r 99%|█████████▉| 297/300 [3:50:00<02:19, 46.54s/it]"
          ]
        },
        {
          "output_type": "stream",
          "name": "stdout",
          "text": [
            "Training Loss : 0.37305744606018065, Testing Loss : 0.66216744556427, Training Accuracy : 0.8753, Testing Accuracy : 0.8036\n"
          ]
        },
        {
          "output_type": "stream",
          "name": "stderr",
          "text": [
            "\r 99%|█████████▉| 298/300 [3:50:47<01:33, 46.68s/it]"
          ]
        },
        {
          "output_type": "stream",
          "name": "stdout",
          "text": [
            "Training Loss : 0.38128697288513186, Testing Loss : 0.6755874517440796, Training Accuracy : 0.87176, Testing Accuracy : 0.7963\n"
          ]
        },
        {
          "output_type": "stream",
          "name": "stderr",
          "text": [
            "\r100%|█████████▉| 299/300 [3:51:34<00:46, 46.67s/it]"
          ]
        },
        {
          "output_type": "stream",
          "name": "stdout",
          "text": [
            "Training Loss : 0.3689289775085449, Testing Loss : 0.6826792698860168, Training Accuracy : 0.87388, Testing Accuracy : 0.8017\n"
          ]
        },
        {
          "output_type": "stream",
          "name": "stderr",
          "text": [
            "100%|██████████| 300/300 [3:52:20<00:00, 46.47s/it]"
          ]
        },
        {
          "output_type": "stream",
          "name": "stdout",
          "text": [
            "Training Loss : 0.37904838939666746, Testing Loss : 0.6753662923812866, Training Accuracy : 0.87068, Testing Accuracy : 0.7956\n"
          ]
        },
        {
          "output_type": "stream",
          "name": "stderr",
          "text": [
            "\n"
          ]
        }
      ]
    },
    {
      "cell_type": "code",
      "source": [
        "print(\"Max Testing Accuracy: %s\"%(max(test_accuracy)))\n",
        "xmax = np.argmax(test_accuracy)\n",
        "ymax = max(test_accuracy)"
      ],
      "metadata": {
        "id": "1_YJ9MmRgS1C"
      },
      "execution_count": null,
      "outputs": []
    },
    {
      "cell_type": "code",
      "source": [
        "f, (fig1, fig2) = plt.subplots(1, 2, figsize=(20, 10))\n",
        "n = len(train_loss)\n",
        "fig1.plot(range(n), train_loss, '-', linewidth='3', label='Train Error')\n",
        "fig1.plot(range(n), test_loss, '-', linewidth='3', label='Test Error')\n",
        "fig2.plot(range(n), train_accuracy, '-', linewidth='3', label='Train Accuracy')\n",
        "fig2.plot(range(n), test_accuracy, '-', linewidth='3', label='Test Acuracy')\n",
        "fig2.annotate('max accuracy = %s'%(ymax), xy=(xmax, ymax), xytext=(xmax, ymax+0.15), arrowprops=dict(facecolor='black', shrink=0.05))\n",
        "fig1.grid(True)\n",
        "fig2.grid(True)\n",
        "fig1.legend()\n",
        "fig2.legend()\n",
        "f.savefig(\"./trainTestCurve.png\")"
      ],
      "metadata": {
        "id": "HtXDsqAXWwjc"
      },
      "execution_count": null,
      "outputs": []
    },
    {
      "cell_type": "code",
      "source": [
        "torch.save(model.state_dict(), '/content/model1.pt')"
      ],
      "metadata": {
        "id": "MgbpPmj8gwyN"
      },
      "execution_count": null,
      "outputs": []
    }
  ]
}